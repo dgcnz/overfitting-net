{
 "cells": [
  {
   "cell_type": "code",
   "execution_count": 1,
   "id": "4457f995-1b32-4061-b47e-cbe59f4f06fa",
   "metadata": {
    "execution": {
     "iopub.execute_input": "2022-11-21T14:25:22.657908Z",
     "iopub.status.busy": "2022-11-21T14:25:22.657205Z",
     "iopub.status.idle": "2022-11-21T14:25:33.088361Z",
     "shell.execute_reply": "2022-11-21T14:25:33.087257Z",
     "shell.execute_reply.started": "2022-11-21T14:25:22.657835Z"
    }
   },
   "outputs": [
    {
     "name": "stdout",
     "output_type": "stream",
     "text": [
      "Collecting mlflow\n",
      "  Downloading mlflow-2.0.1-py3-none-any.whl (16.5 MB)\n",
      "\u001b[2K     \u001b[90m━━━━━━━━━━━━━━━━━━━━━━━━━━━━━━━━━━━━━━━━\u001b[0m \u001b[32m16.5/16.5 MB\u001b[0m \u001b[31m75.0 MB/s\u001b[0m eta \u001b[36m0:00:00\u001b[0m00:01\u001b[0m00:01\u001b[0m\n",
      "\u001b[?25hRequirement already satisfied: transformers in /usr/local/lib/python3.9/dist-packages (4.20.1)\n",
      "Requirement already satisfied: datasets in /usr/local/lib/python3.9/dist-packages (2.3.2)\n",
      "Requirement already satisfied: pydantic[dotenv] in /usr/local/lib/python3.9/dist-packages (1.9.1)\n",
      "Collecting av\n",
      "  Downloading av-10.0.0-cp39-cp39-manylinux_2_17_x86_64.manylinux2014_x86_64.whl (31.2 MB)\n",
      "\u001b[2K     \u001b[90m━━━━━━━━━━━━━━━━━━━━━━━━━━━━━━━━━━━━━━━━\u001b[0m \u001b[32m31.2/31.2 MB\u001b[0m \u001b[31m50.6 MB/s\u001b[0m eta \u001b[36m0:00:00\u001b[0m00:01\u001b[0m00:01\u001b[0m\n",
      "\u001b[?25hRequirement already satisfied: Jinja2<4,>=2.11 in /usr/local/lib/python3.9/dist-packages (from mlflow) (3.1.2)\n",
      "Requirement already satisfied: gitpython<4,>=2.1.0 in /usr/local/lib/python3.9/dist-packages (from mlflow) (3.1.27)\n",
      "Requirement already satisfied: numpy<2 in /usr/local/lib/python3.9/dist-packages (from mlflow) (1.23.1)\n",
      "Collecting Flask<3\n",
      "  Downloading Flask-2.2.2-py3-none-any.whl (101 kB)\n",
      "\u001b[2K     \u001b[90m━━━━━━━━━━━━━━━━━━━━━━━━━━━━━━━━━━━━━━\u001b[0m \u001b[32m101.5/101.5 kB\u001b[0m \u001b[31m22.8 MB/s\u001b[0m eta \u001b[36m0:00:00\u001b[0m\n",
      "\u001b[?25hRequirement already satisfied: scipy<2 in /usr/local/lib/python3.9/dist-packages (from mlflow) (1.8.1)\n",
      "Collecting sqlparse<1,>=0.4.0\n",
      "  Downloading sqlparse-0.4.3-py3-none-any.whl (42 kB)\n",
      "\u001b[2K     \u001b[90m━━━━━━━━━━━━━━━━━━━━━━━━━━━━━━━━━━━━━━━━\u001b[0m \u001b[32m42.8/42.8 kB\u001b[0m \u001b[31m12.1 MB/s\u001b[0m eta \u001b[36m0:00:00\u001b[0m\n",
      "\u001b[?25hRequirement already satisfied: sqlalchemy<2,>=1.4.0 in /usr/local/lib/python3.9/dist-packages (from mlflow) (1.4.39)\n",
      "Collecting alembic<2\n",
      "  Downloading alembic-1.8.1-py3-none-any.whl (209 kB)\n",
      "\u001b[2K     \u001b[90m━━━━━━━━━━━━━━━━━━━━━━━━━━━━━━━━━━━━━━\u001b[0m \u001b[32m209.8/209.8 kB\u001b[0m \u001b[31m47.5 MB/s\u001b[0m eta \u001b[36m0:00:00\u001b[0m\n",
      "\u001b[?25hCollecting gunicorn<21\n",
      "  Downloading gunicorn-20.1.0-py3-none-any.whl (79 kB)\n",
      "\u001b[2K     \u001b[90m━━━━━━━━━━━━━━━━━━━━━━━━━━━━━━━━━━━━━━━━\u001b[0m \u001b[32m79.5/79.5 kB\u001b[0m \u001b[31m21.8 MB/s\u001b[0m eta \u001b[36m0:00:00\u001b[0m\n",
      "\u001b[?25hRequirement already satisfied: entrypoints<1 in /usr/local/lib/python3.9/dist-packages (from mlflow) (0.4)\n",
      "Collecting shap<1,>=0.40\n",
      "  Downloading shap-0.41.0-cp39-cp39-manylinux_2_12_x86_64.manylinux2010_x86_64.whl (572 kB)\n",
      "\u001b[2K     \u001b[90m━━━━━━━━━━━━━━━━━━━━━━━━━━━━━━━━━━━━━━\u001b[0m \u001b[32m572.4/572.4 kB\u001b[0m \u001b[31m71.4 MB/s\u001b[0m eta \u001b[36m0:00:00\u001b[0m\n",
      "\u001b[?25hCollecting databricks-cli<1,>=0.8.7\n",
      "  Downloading databricks-cli-0.17.3.tar.gz (77 kB)\n",
      "\u001b[2K     \u001b[90m━━━━━━━━━━━━━━━━━━━━━━━━━━━━━━━━━━━━━━━━\u001b[0m \u001b[32m77.9/77.9 kB\u001b[0m \u001b[31m23.9 MB/s\u001b[0m eta \u001b[36m0:00:00\u001b[0m\n",
      "\u001b[?25h  Preparing metadata (setup.py) ... \u001b[?25ldone\n",
      "\u001b[?25hRequirement already satisfied: pyarrow<11,>=4.0.0 in /usr/local/lib/python3.9/dist-packages (from mlflow) (8.0.0)\n",
      "Requirement already satisfied: pytz<2023 in /usr/local/lib/python3.9/dist-packages (from mlflow) (2022.1)\n",
      "Collecting docker<7,>=4.0.0\n",
      "  Downloading docker-6.0.1-py3-none-any.whl (147 kB)\n",
      "\u001b[2K     \u001b[90m━━━━━━━━━━━━━━━━━━━━━━━━━━━━━━━━━━━━━━\u001b[0m \u001b[32m147.5/147.5 kB\u001b[0m \u001b[31m33.0 MB/s\u001b[0m eta \u001b[36m0:00:00\u001b[0m\n",
      "\u001b[?25hRequirement already satisfied: packaging<22 in /usr/local/lib/python3.9/dist-packages (from mlflow) (21.3)\n",
      "Requirement already satisfied: pandas<2 in /usr/local/lib/python3.9/dist-packages (from mlflow) (1.4.3)\n",
      "Requirement already satisfied: requests<3,>=2.17.3 in /usr/local/lib/python3.9/dist-packages (from mlflow) (2.28.1)\n",
      "Requirement already satisfied: matplotlib<4 in /usr/local/lib/python3.9/dist-packages (from mlflow) (3.5.2)\n",
      "Collecting querystring-parser<2\n",
      "  Downloading querystring_parser-1.2.4-py2.py3-none-any.whl (7.9 kB)\n",
      "Requirement already satisfied: markdown<4,>=3.3 in /usr/local/lib/python3.9/dist-packages (from mlflow) (3.3.7)\n",
      "Requirement already satisfied: pyyaml<7,>=5.1 in /usr/local/lib/python3.9/dist-packages (from mlflow) (5.4.1)\n",
      "Requirement already satisfied: scikit-learn<2 in /usr/local/lib/python3.9/dist-packages (from mlflow) (1.1.1)\n",
      "Requirement already satisfied: cloudpickle<3 in /usr/local/lib/python3.9/dist-packages (from mlflow) (2.1.0)\n",
      "Requirement already satisfied: click<9,>=7.0 in /usr/local/lib/python3.9/dist-packages (from mlflow) (8.1.3)\n",
      "Requirement already satisfied: protobuf<5,>=3.12.0 in /usr/local/lib/python3.9/dist-packages (from mlflow) (3.19.4)\n",
      "Requirement already satisfied: importlib-metadata!=4.7.0,<6,>=3.7.0 in /usr/local/lib/python3.9/dist-packages (from mlflow) (4.12.0)\n",
      "Requirement already satisfied: tokenizers!=0.11.3,<0.13,>=0.11.1 in /usr/local/lib/python3.9/dist-packages (from transformers) (0.12.1)\n",
      "Requirement already satisfied: regex!=2019.12.17 in /usr/local/lib/python3.9/dist-packages (from transformers) (2022.7.9)\n",
      "Requirement already satisfied: huggingface-hub<1.0,>=0.1.0 in /usr/local/lib/python3.9/dist-packages (from transformers) (0.8.1)\n",
      "Requirement already satisfied: tqdm>=4.27 in /usr/local/lib/python3.9/dist-packages (from transformers) (4.64.0)\n",
      "Requirement already satisfied: filelock in /usr/local/lib/python3.9/dist-packages (from transformers) (3.7.1)\n",
      "Requirement already satisfied: multiprocess in /usr/local/lib/python3.9/dist-packages (from datasets) (0.70.13)\n",
      "Requirement already satisfied: responses<0.19 in /usr/local/lib/python3.9/dist-packages (from datasets) (0.18.0)\n",
      "Requirement already satisfied: fsspec[http]>=2021.05.0 in /usr/local/lib/python3.9/dist-packages (from datasets) (2022.5.0)\n",
      "Requirement already satisfied: aiohttp in /usr/local/lib/python3.9/dist-packages (from datasets) (3.8.1)\n",
      "Requirement already satisfied: dill<0.3.6 in /usr/local/lib/python3.9/dist-packages (from datasets) (0.3.5.1)\n",
      "Requirement already satisfied: xxhash in /usr/local/lib/python3.9/dist-packages (from datasets) (3.0.0)\n",
      "Requirement already satisfied: typing-extensions>=3.7.4.3 in /usr/local/lib/python3.9/dist-packages (from pydantic[dotenv]) (4.3.0)\n",
      "Collecting python-dotenv>=0.10.4\n",
      "  Downloading python_dotenv-0.21.0-py3-none-any.whl (18 kB)\n",
      "Collecting Mako\n",
      "  Downloading Mako-1.2.4-py3-none-any.whl (78 kB)\n",
      "\u001b[2K     \u001b[90m━━━━━━━━━━━━━━━━━━━━━━━━━━━━━━━━━━━━━━━━\u001b[0m \u001b[32m78.7/78.7 kB\u001b[0m \u001b[31m23.1 MB/s\u001b[0m eta \u001b[36m0:00:00\u001b[0m\n",
      "\u001b[?25hCollecting pyjwt>=1.7.0\n",
      "  Downloading PyJWT-2.6.0-py3-none-any.whl (20 kB)\n",
      "Requirement already satisfied: oauthlib>=3.1.0 in /usr/local/lib/python3.9/dist-packages (from databricks-cli<1,>=0.8.7->mlflow) (3.2.0)\n",
      "Collecting tabulate>=0.7.7\n",
      "  Downloading tabulate-0.9.0-py3-none-any.whl (35 kB)\n",
      "Requirement already satisfied: six>=1.10.0 in /usr/lib/python3/dist-packages (from databricks-cli<1,>=0.8.7->mlflow) (1.14.0)\n",
      "Requirement already satisfied: urllib3>=1.26.0 in /usr/local/lib/python3.9/dist-packages (from docker<7,>=4.0.0->mlflow) (1.26.10)\n",
      "Requirement already satisfied: websocket-client>=0.32.0 in /usr/local/lib/python3.9/dist-packages (from docker<7,>=4.0.0->mlflow) (0.57.0)\n",
      "Collecting Werkzeug>=2.2.2\n",
      "  Downloading Werkzeug-2.2.2-py3-none-any.whl (232 kB)\n",
      "\u001b[2K     \u001b[90m━━━━━━━━━━━━━━━━━━━━━━━━━━━━━━━━━━━━━━\u001b[0m \u001b[32m232.7/232.7 kB\u001b[0m \u001b[31m46.5 MB/s\u001b[0m eta \u001b[36m0:00:00\u001b[0m\n",
      "\u001b[?25hCollecting itsdangerous>=2.0\n",
      "  Downloading itsdangerous-2.1.2-py3-none-any.whl (15 kB)\n",
      "Requirement already satisfied: gitdb<5,>=4.0.1 in /usr/local/lib/python3.9/dist-packages (from gitpython<4,>=2.1.0->mlflow) (4.0.9)\n",
      "Requirement already satisfied: setuptools>=3.0 in /usr/local/lib/python3.9/dist-packages (from gunicorn<21->mlflow) (63.1.0)\n",
      "Requirement already satisfied: zipp>=0.5 in /usr/local/lib/python3.9/dist-packages (from importlib-metadata!=4.7.0,<6,>=3.7.0->mlflow) (3.8.1)\n",
      "Requirement already satisfied: MarkupSafe>=2.0 in /usr/local/lib/python3.9/dist-packages (from Jinja2<4,>=2.11->mlflow) (2.1.1)\n",
      "Requirement already satisfied: kiwisolver>=1.0.1 in /usr/local/lib/python3.9/dist-packages (from matplotlib<4->mlflow) (1.4.3)\n",
      "Requirement already satisfied: cycler>=0.10 in /usr/local/lib/python3.9/dist-packages (from matplotlib<4->mlflow) (0.11.0)\n",
      "Requirement already satisfied: python-dateutil>=2.7 in /usr/local/lib/python3.9/dist-packages (from matplotlib<4->mlflow) (2.8.2)\n",
      "Requirement already satisfied: pillow>=6.2.0 in /usr/local/lib/python3.9/dist-packages (from matplotlib<4->mlflow) (9.2.0)\n",
      "Requirement already satisfied: fonttools>=4.22.0 in /usr/local/lib/python3.9/dist-packages (from matplotlib<4->mlflow) (4.34.4)\n",
      "Requirement already satisfied: pyparsing>=2.2.1 in /usr/local/lib/python3.9/dist-packages (from matplotlib<4->mlflow) (3.0.9)\n",
      "Requirement already satisfied: idna<4,>=2.5 in /usr/lib/python3/dist-packages (from requests<3,>=2.17.3->mlflow) (2.8)\n",
      "Requirement already satisfied: charset-normalizer<3,>=2 in /usr/local/lib/python3.9/dist-packages (from requests<3,>=2.17.3->mlflow) (2.1.0)\n",
      "Requirement already satisfied: certifi>=2017.4.17 in /usr/lib/python3/dist-packages (from requests<3,>=2.17.3->mlflow) (2019.11.28)\n",
      "Requirement already satisfied: threadpoolctl>=2.0.0 in /usr/local/lib/python3.9/dist-packages (from scikit-learn<2->mlflow) (3.1.0)\n",
      "Requirement already satisfied: joblib>=1.0.0 in /usr/local/lib/python3.9/dist-packages (from scikit-learn<2->mlflow) (1.1.0)\n",
      "Collecting numba\n",
      "  Downloading numba-0.56.4-cp39-cp39-manylinux2014_x86_64.manylinux_2_17_x86_64.whl (3.5 MB)\n",
      "\u001b[2K     \u001b[90m━━━━━━━━━━━━━━━━━━━━━━━━━━━━━━━━━━━━━━━━\u001b[0m \u001b[32m3.5/3.5 MB\u001b[0m \u001b[31m96.4 MB/s\u001b[0m eta \u001b[36m0:00:00\u001b[0m:00:01\u001b[0m\n",
      "\u001b[?25hCollecting slicer==0.0.7\n",
      "  Downloading slicer-0.0.7-py3-none-any.whl (14 kB)\n",
      "Requirement already satisfied: greenlet!=0.4.17 in /usr/local/lib/python3.9/dist-packages (from sqlalchemy<2,>=1.4.0->mlflow) (1.1.2)\n",
      "Requirement already satisfied: yarl<2.0,>=1.0 in /usr/local/lib/python3.9/dist-packages (from aiohttp->datasets) (1.7.2)\n",
      "Requirement already satisfied: frozenlist>=1.1.1 in /usr/local/lib/python3.9/dist-packages (from aiohttp->datasets) (1.3.0)\n",
      "Requirement already satisfied: attrs>=17.3.0 in /usr/local/lib/python3.9/dist-packages (from aiohttp->datasets) (18.2.0)\n",
      "Requirement already satisfied: multidict<7.0,>=4.5 in /usr/local/lib/python3.9/dist-packages (from aiohttp->datasets) (6.0.2)\n",
      "Requirement already satisfied: aiosignal>=1.1.2 in /usr/local/lib/python3.9/dist-packages (from aiohttp->datasets) (1.2.0)\n",
      "Requirement already satisfied: async-timeout<5.0,>=4.0.0a3 in /usr/local/lib/python3.9/dist-packages (from aiohttp->datasets) (4.0.2)\n",
      "Requirement already satisfied: smmap<6,>=3.0.1 in /usr/local/lib/python3.9/dist-packages (from gitdb<5,>=4.0.1->gitpython<4,>=2.1.0->mlflow) (5.0.0)\n",
      "Collecting llvmlite<0.40,>=0.39.0dev0\n",
      "  Downloading llvmlite-0.39.1-cp39-cp39-manylinux_2_17_x86_64.manylinux2014_x86_64.whl (34.6 MB)\n",
      "\u001b[2K     \u001b[90m━━━━━━━━━━━━━━━━━━━━━━━━━━━━━━━━━━━━━━━━\u001b[0m \u001b[32m34.6/34.6 MB\u001b[0m \u001b[31m46.1 MB/s\u001b[0m eta \u001b[36m0:00:00\u001b[0m00:01\u001b[0m00:01\u001b[0m\n",
      "\u001b[?25hBuilding wheels for collected packages: databricks-cli\n",
      "  Building wheel for databricks-cli (setup.py) ... \u001b[?25ldone\n",
      "\u001b[?25h  Created wheel for databricks-cli: filename=databricks_cli-0.17.3-py3-none-any.whl size=139084 sha256=3633a223ccba107ee0374b0934fce13283f1f765b3ab65c49ea8c4c54e9d49a8\n",
      "  Stored in directory: /root/.cache/pip/wheels/7b/ef/c5/85718fa9e66dec117e42d8b4d7b8a2e40ebdec17232935615f\n",
      "Successfully built databricks-cli\n",
      "Installing collected packages: av, Werkzeug, tabulate, sqlparse, slicer, querystring-parser, python-dotenv, pyjwt, Mako, llvmlite, itsdangerous, gunicorn, numba, Flask, docker, databricks-cli, alembic, shap, mlflow\n",
      "  Attempting uninstall: Werkzeug\n",
      "    Found existing installation: Werkzeug 2.1.2\n",
      "    Uninstalling Werkzeug-2.1.2:\n",
      "      Successfully uninstalled Werkzeug-2.1.2\n",
      "Successfully installed Flask-2.2.2 Mako-1.2.4 Werkzeug-2.2.2 alembic-1.8.1 av-10.0.0 databricks-cli-0.17.3 docker-6.0.1 gunicorn-20.1.0 itsdangerous-2.1.2 llvmlite-0.39.1 mlflow-2.0.1 numba-0.56.4 pyjwt-2.6.0 python-dotenv-0.21.0 querystring-parser-1.2.4 shap-0.41.0 slicer-0.0.7 sqlparse-0.4.3 tabulate-0.9.0\n",
      "\u001b[33mWARNING: Running pip as the 'root' user can result in broken permissions and conflicting behaviour with the system package manager. It is recommended to use a virtual environment instead: https://pip.pypa.io/warnings/venv\u001b[0m\u001b[33m\n",
      "\u001b[0m"
     ]
    }
   ],
   "source": [
    "! pip install mlflow transformers datasets \"pydantic[dotenv]\" av"
   ]
  },
  {
   "cell_type": "code",
   "execution_count": 2,
   "id": "af7a1894-b864-454b-907b-29448bb9528e",
   "metadata": {
    "execution": {
     "iopub.execute_input": "2022-11-21T14:25:33.090792Z",
     "iopub.status.busy": "2022-11-21T14:25:33.090370Z",
     "iopub.status.idle": "2022-11-21T14:25:33.096867Z",
     "shell.execute_reply": "2022-11-21T14:25:33.096107Z",
     "shell.execute_reply.started": "2022-11-21T14:25:33.090757Z"
    }
   },
   "outputs": [
    {
     "name": "stdout",
     "output_type": "stream",
     "text": [
      "/notebooks\n"
     ]
    }
   ],
   "source": [
    "%cd .."
   ]
  },
  {
   "cell_type": "code",
   "execution_count": null,
   "id": "b919b463-3e68-474e-812b-ea36129adff4",
   "metadata": {},
   "outputs": [],
   "source": [
    "!ls"
   ]
  },
  {
   "cell_type": "code",
   "execution_count": 4,
   "id": "c13eb9a4-c6ea-4a53-86ed-5414f872b176",
   "metadata": {
    "execution": {
     "iopub.execute_input": "2022-11-21T14:25:33.665463Z",
     "iopub.status.busy": "2022-11-21T14:25:33.665254Z",
     "iopub.status.idle": "2022-11-21T14:25:33.672325Z",
     "shell.execute_reply": "2022-11-21T14:25:33.671713Z",
     "shell.execute_reply.started": "2022-11-21T14:25:33.665441Z"
    }
   },
   "outputs": [],
   "source": [
    "import sys\n",
    "sys.path.append(\".\")"
   ]
  },
  {
   "cell_type": "code",
   "execution_count": 1,
   "id": "ea7aca5f-dc43-4ac0-be37-00aae532fe9a",
   "metadata": {
    "execution": {
     "iopub.execute_input": "2022-11-21T14:25:47.622276Z",
     "iopub.status.busy": "2022-11-21T14:25:47.621603Z",
     "iopub.status.idle": "2022-11-21T14:25:47.626700Z",
     "shell.execute_reply": "2022-11-21T14:25:47.625923Z",
     "shell.execute_reply.started": "2022-11-21T14:25:47.622252Z"
    }
   },
   "outputs": [],
   "source": [
    "import argparse\n",
    "import logging\n",
    "import os\n",
    "\n",
    "import mlflow\n",
    "from overfit.models.vit import ViT\n",
    "from overfit.trainers.overfit import OverfitTrainer\n",
    "from overfit.utils.misc import parse_video_path_params\n",
    "from torchvision.io import read_video\n",
    "from torchvision import transforms\n",
    "from torchvision.models import vit_b_16, ViT_B_16_Weights\n",
    "from torchvision.models import ResNet50_Weights, resnet50\n",
    "from torchvision.models import ResNet34_Weights, resnet34\n",
    "from torchvision.models import ResNet18_Weights, resnet18\n",
    "from pathlib import Path\n",
    "import torch\n",
    "from tqdm.notebook import tqdm\n",
    "from mlflow.client import MlflowClient\n",
    "from overfit.env_settings import settings"
   ]
  },
  {
   "cell_type": "code",
   "execution_count": 7,
   "id": "e11934a1-da53-4cec-a167-5443aef5ede1",
   "metadata": {
    "execution": {
     "iopub.execute_input": "2022-11-21T14:25:47.627749Z",
     "iopub.status.busy": "2022-11-21T14:25:47.627549Z",
     "iopub.status.idle": "2022-11-21T14:25:47.637014Z",
     "shell.execute_reply": "2022-11-21T14:25:47.636205Z",
     "shell.execute_reply.started": "2022-11-21T14:25:47.627730Z"
    }
   },
   "outputs": [
    {
     "data": {
      "text/plain": [
       "{'4-50': 'D4-50MvitC0.1WD0.2LR0.4M0.1',\n",
       " '5-50': 'D5-50MvitC0.1WD0.2LR0.4M0.1',\n",
       " '6-75': 'D6-75MvitC0.1WD0.2LR0.4M0.1'}"
      ]
     },
     "execution_count": 7,
     "metadata": {},
     "output_type": "execute_result"
    }
   ],
   "source": [
    "MLFLOW_EXPERIMENT_ID=\"\"\n",
    "CONFIDENCE=0.1\n",
    "WEIGHT_DECAY=0.2\n",
    "MAX_LR=0.4\n",
    "MOMENTUM=0.1\n",
    "MODELS = [\"resnet18\", \"resnet34\", \"resnet50\", \"vit\"]\n",
    "MODEL=MODELS[3]\n",
    "\n",
    "DATASETS = [\"4-50\", \"5-50\", \"6-75\"]\n",
    "EXPERIMENT_NAMES = {DATASET: f\"D{DATASET}M{MODEL}C{CONFIDENCE}WD{WEIGHT_DECAY}LR{MAX_LR}M{MOMENTUM}\" for DATASET in DATASETS}\n",
    "EXPERIMENT_NAMES"
   ]
  },
  {
   "cell_type": "code",
   "execution_count": 8,
   "id": "778573af-a2d3-4162-b23f-f5d6d3225858",
   "metadata": {
    "execution": {
     "iopub.execute_input": "2022-11-21T14:25:48.006504Z",
     "iopub.status.busy": "2022-11-21T14:25:48.005976Z",
     "iopub.status.idle": "2022-11-21T14:25:48.222073Z",
     "shell.execute_reply": "2022-11-21T14:25:48.221281Z",
     "shell.execute_reply.started": "2022-11-21T14:25:48.006478Z"
    }
   },
   "outputs": [
    {
     "data": {
      "text/plain": [
       "{'4-50': '32', '5-50': '33', '6-75': '34'}"
      ]
     },
     "execution_count": 8,
     "metadata": {},
     "output_type": "execute_result"
    }
   ],
   "source": [
    "client = MlflowClient(tracking_uri=settings.MLFLOW_TRACKING_URI)\n",
    "mlflow.set_tracking_uri(settings.MLFLOW_TRACKING_URI)\n",
    "MLFLOW_EXPERIMENT_IDS = {}\n",
    "for DATASET, EXPERIMENT_NAME in EXPERIMENT_NAMES.items():\n",
    "    try:\n",
    "        MLFLOW_EXPERIMENT_ID = client.create_experiment(EXPERIMENT_NAME)\n",
    "    except Exception as e:\n",
    "        MLFLOW_EXPERIMENT_ID = client.get_experiment_by_name(EXPERIMENT_NAME).experiment_id\n",
    "    MLFLOW_EXPERIMENT_IDS[DATASET] = MLFLOW_EXPERIMENT_ID\n",
    "MLFLOW_EXPERIMENT_IDS"
   ]
  },
  {
   "cell_type": "code",
   "execution_count": 10,
   "id": "f59c007d-a9dc-4fe3-b09e-d4bbe9b49d06",
   "metadata": {
    "execution": {
     "iopub.execute_input": "2022-11-21T14:26:07.016033Z",
     "iopub.status.busy": "2022-11-21T14:26:07.015352Z",
     "iopub.status.idle": "2022-11-21T14:26:07.021452Z",
     "shell.execute_reply": "2022-11-21T14:26:07.020687Z",
     "shell.execute_reply.started": "2022-11-21T14:26:07.016001Z"
    }
   },
   "outputs": [
    {
     "data": {
      "text/plain": [
       "device(type='cuda')"
      ]
     },
     "execution_count": 10,
     "metadata": {},
     "output_type": "execute_result"
    }
   ],
   "source": [
    "device = torch.device(\"cuda\") if torch.cuda.is_available() else torch.device(\"cpu\")\n",
    "device"
   ]
  },
  {
   "cell_type": "code",
   "execution_count": 11,
   "id": "f8c9c6b0-997b-492f-8098-6526f96e22d9",
   "metadata": {
    "execution": {
     "iopub.execute_input": "2022-11-21T14:26:08.583548Z",
     "iopub.status.busy": "2022-11-21T14:26:08.582936Z",
     "iopub.status.idle": "2022-11-21T14:26:08.588162Z",
     "shell.execute_reply": "2022-11-21T14:26:08.587424Z",
     "shell.execute_reply.started": "2022-11-21T14:26:08.583521Z"
    }
   },
   "outputs": [],
   "source": [
    "class ToFloat(object):\n",
    "    def __init__(self):\n",
    "      pass\n",
    "\n",
    "    def __call__(self, tensor):\n",
    "      return (tensor / 255.0).type(torch.float32)\n",
    "\n",
    "TRANSFORM_IMG = transforms.Compose([\n",
    "    transforms.Resize((224, 224)),\n",
    "    ToFloat(),\n",
    "    transforms.Normalize(mean=[0.485, 0.456, 0.406],\n",
    "                         std=[0.229, 0.224, 0.225] )\n",
    "    ])"
   ]
  },
  {
   "cell_type": "code",
   "execution_count": 12,
   "id": "1795fd08-9646-470b-89b2-8af2b63249d0",
   "metadata": {
    "execution": {
     "iopub.execute_input": "2022-11-21T14:26:09.401359Z",
     "iopub.status.busy": "2022-11-21T14:26:09.400790Z",
     "iopub.status.idle": "2022-11-21T14:26:10.026332Z",
     "shell.execute_reply": "2022-11-21T14:26:10.025405Z",
     "shell.execute_reply.started": "2022-11-21T14:26:09.401335Z"
    }
   },
   "outputs": [
    {
     "name": "stdout",
     "output_type": "stream",
     "text": [
      "imagenet1k-4-50  imagenet1k-5-50  imagenet1k-6-75\n"
     ]
    }
   ],
   "source": [
    "!ls /datasets"
   ]
  },
  {
   "cell_type": "code",
   "execution_count": 13,
   "id": "810f6040-a2a8-4ce0-b1eb-d94b1efdaab2",
   "metadata": {
    "execution": {
     "iopub.execute_input": "2022-11-21T14:26:10.589647Z",
     "iopub.status.busy": "2022-11-21T14:26:10.588882Z",
     "iopub.status.idle": "2022-11-21T14:26:10.596986Z",
     "shell.execute_reply": "2022-11-21T14:26:10.596219Z",
     "shell.execute_reply.started": "2022-11-21T14:26:10.589614Z"
    }
   },
   "outputs": [],
   "source": [
    "with open(\"imagenet_classes.txt\", \"r\") as f:\n",
    "    categories = f.readlines()\n",
    "    categories = [cat.rstrip(\"\\n\") for cat in categories]"
   ]
  },
  {
   "cell_type": "code",
   "execution_count": 15,
   "id": "33ab62a5-38f0-48d9-a553-ecbba70ae348",
   "metadata": {
    "execution": {
     "iopub.execute_input": "2022-11-21T14:27:27.094891Z",
     "iopub.status.busy": "2022-11-21T14:27:27.094616Z",
     "iopub.status.idle": "2022-11-21T14:27:28.115361Z",
     "shell.execute_reply": "2022-11-21T14:27:28.114794Z",
     "shell.execute_reply.started": "2022-11-21T14:27:27.094871Z"
    }
   },
   "outputs": [],
   "source": [
    "if MODEL == \"vit\":\n",
    "    srcnet = vit_b_16(weights=ViT_B_16_Weights.IMAGENET1K_V1).eval().to(device)\n",
    "elif MODEL == \"resnet34\":\n",
    "    srcnet = resnet34(weights=ResNet34_Weights.IMAGENET1K_V1).eval().to(device)\n",
    "elif MODEL == \"resnet50\":\n",
    "    srcnet = resnet50(weights=ResNet50_Weights.IMAGENET1K_V1).eval().to(device)\n",
    "elif MODEL == \"resnet18\":\n",
    "    srcnet = resnet18(weights=ResNet18_Weights.IMAGENET1K_V1).eval().to(device)\n",
    "else:\n",
    "    raise Exception(\"Unknown Source model\")"
   ]
  },
  {
   "cell_type": "code",
   "execution_count": null,
   "id": "0e2fdc87-0914-4367-9e2f-58d9b38f1539",
   "metadata": {
    "execution": {
     "iopub.execute_input": "2022-11-21T14:27:34.414526Z",
     "iopub.status.busy": "2022-11-21T14:27:34.413729Z"
    }
   },
   "outputs": [],
   "source": [
    "for DATASET, MLFLOW_EXPERIMENT_ID in tqdm(MLFLOW_EXPERIMENT_IDS.items()):\n",
    "    videos = [v for v in Path(f\"/datasets/imagenet1k-{DATASET}\").glob(\"*.mp4\")]\n",
    "    logging.info(\"Creating trainer\")\n",
    "    for video_path in tqdm(videos):\n",
    "        video_path = str(video_path)\n",
    "        vid = read_video(video_path, output_format=\"TCHW\")[0]\n",
    "        vid = TRANSFORM_IMG(vid).to(device)\n",
    "        y_ix, _, crop_fraction, n_frames = parse_video_path_params(video_path)\n",
    "        logging.info(crop_fraction)\n",
    "        logging.info(n_frames)\n",
    "        \n",
    "        tgtnet_trainer = OverfitTrainer(categories=categories)\n",
    "        tgtnet_trainer.set(\n",
    "          pretrained_classifier=srcnet,\n",
    "          num_classes=1000,\n",
    "          confidence=CONFIDENCE,\n",
    "          weight_decay=WEIGHT_DECAY,\n",
    "          max_lr=MAX_LR,\n",
    "          momentum=MOMENTUM,\n",
    "        )\n",
    "        tgtnet_trainer.model = tgtnet_trainer.model.to(device)\n",
    "\n",
    "        logging.info(\"Starting experiment\")\n",
    "        with mlflow.start_run(experiment_id=MLFLOW_EXPERIMENT_ID) as run:\n",
    "            mlflow.log_param(\"Crop fraction\", crop_fraction)\n",
    "            mlflow.log_param(\"Frames\", n_frames)\n",
    "            mlflow.log_param(\"Filename\", video_path)\n",
    "            mlflow.log_param(\"Source Model\", MODEL)\n",
    "            tgtnet_trainer.test(vid, [y_ix] * n_frames, active_run=run, hf_format=False)"
   ]
  },
  {
   "cell_type": "code",
   "execution_count": null,
   "id": "283db80a-e7d4-497c-833f-302fdbbb51d0",
   "metadata": {},
   "outputs": [],
   "source": []
  }
 ],
 "metadata": {
  "kernelspec": {
   "display_name": "Python 3.9.13 ('.venv': poetry)",
   "language": "python",
   "name": "python3"
  },
  "language_info": {
   "codemirror_mode": {
    "name": "ipython",
    "version": 3
   },
   "file_extension": ".py",
   "mimetype": "text/x-python",
   "name": "python",
   "nbconvert_exporter": "python",
   "pygments_lexer": "ipython3",
   "version": "3.9.13"
  },
  "vscode": {
   "interpreter": {
    "hash": "48a83ca3aee1feddb0dfc5a060f9f80ff0dd60294765f4f1c97838d8341a23c1"
   }
  }
 },
 "nbformat": 4,
 "nbformat_minor": 5
}

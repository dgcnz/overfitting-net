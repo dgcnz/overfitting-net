{
 "cells": [
  {
   "cell_type": "code",
   "execution_count": null,
   "metadata": {},
   "outputs": [],
   "source": [
    "import argparse\n",
    "import logging\n",
    "import os\n",
    "\n",
    "import mlflow\n",
    "from overfit.models.vit import ViT\n",
    "from overfit.trainers.overfit import OverfitTrainer\n",
    "from overfit.utils.misc import parse_video_path_params\n",
    "from torchvision.io import read_video"
   ]
  },
  {
   "cell_type": "code",
   "execution_count": null,
   "metadata": {},
   "outputs": [],
   "source": [
    "MLFLOW_TRACKING_URI = os.environ[\"MLFLOW_TRACKING_URI\"]\n",
    "MLFLOW_EXPERIMENT_ID = os.environ[\"MLFLOW_EXPERIMENT_ID\"]\n",
    "assert MLFLOW_EXPERIMENT_ID\n",
    "assert MLFLOW_TRACKING_URI\n",
    "\n",
    "logging.basicConfig(level=logging.INFO)\n",
    "parser = argparse.ArgumentParser(description=\"\")\n",
    "parser.add_argument(\"video_path\", type=str, help=\"Video path.\")\n",
    "parser.add_argument(\"--confidence\", type=float, help=\"Confidence\", default=0.1)\n",
    "parser.add_argument(\"--weight_decay\", type=float, help=\"Weight Decay\", default=0.2)\n",
    "parser.add_argument(\"--max_lr\", type=float, help=\"Max Learning rate\", default=0.25)\n",
    "parser.add_argument(\"--momentum\", type=float, help=\"Momentum\", default=0.1)\n",
    "\n",
    "args = parser.parse_args()\n",
    "\n",
    "vid = read_video(args.video_path, output_format=\"TCHW\")[0]\n",
    "# vid = uint8_to_float32(vid)\n",
    "# vid = normalize_rgb(vid)\n",
    "y_ix, _, crop_fraction, n_frames = parse_video_path_params(args.video_path)\n",
    "logging.info(crop_fraction)\n",
    "logging.info(n_frames)\n",
    "assert len(vid) == int(n_frames), (len(vid), int(n_frames))\n",
    "\n",
    "logging.info(\"Creating trainer\")\n",
    "srcnet = ViT().eval()\n",
    "\n",
    "with open(\"imagenet_classes.txt\", \"r\") as f:\n",
    "    categories = f.readlines()\n",
    "    categories = [cat.rstrip(\"\\n\") for cat in categories]\n",
    "\n",
    "tgtnet_trainer = OverfitTrainer(categories=categories)\n",
    "tgtnet_trainer.set(\n",
    "    pretrained_classifier=srcnet,\n",
    "    num_classes=1000,\n",
    "    confidence=args.confidence,\n",
    "    weight_decay=args.weight_decay,\n",
    "    max_lr=args.max_lr,\n",
    "    momentum=args.momentum,\n",
    ")\n",
    "\n",
    "logging.info(\"Starting experiment\")\n",
    "mlflow.set_tracking_uri(f\"{MLFLOW_TRACKING_URI}\")\n",
    "with mlflow.start_run(experiment_id=MLFLOW_EXPERIMENT_ID) as run:\n",
    "    mlflow.log_param(\"Crop fraction\", crop_fraction)\n",
    "    mlflow.log_param(\"Frames\", n_frames)\n",
    "    mlflow.log_param(\"Filename\", args.video_path)\n",
    "    mlflow.log_param(\"Source Model\", \"ViT\")\n",
    "    tgtnet_trainer.test(vid, [y_ix] * n_frames, active_run=run, hf_format=True)"
   ]
  }
 ],
 "metadata": {
  "kernelspec": {
   "display_name": "Python 3.9.13 ('.venv': poetry)",
   "language": "python",
   "name": "python3"
  },
  "language_info": {
   "name": "python",
   "version": "3.9.13"
  },
  "orig_nbformat": 4,
  "vscode": {
   "interpreter": {
    "hash": "48a83ca3aee1feddb0dfc5a060f9f80ff0dd60294765f4f1c97838d8341a23c1"
   }
  }
 },
 "nbformat": 4,
 "nbformat_minor": 2
}

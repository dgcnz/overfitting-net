{
 "cells": [
  {
   "cell_type": "code",
   "execution_count": 122,
   "metadata": {},
   "outputs": [],
   "source": [
    "import mlflow\n",
    "from mlflow.client import MlflowClient\n",
    "import pandas as pd\n",
    "import os\n",
    "from overfit.env_settings import settings\n",
    "import numpy as np\n"
   ]
  },
  {
   "cell_type": "code",
   "execution_count": 9,
   "metadata": {},
   "outputs": [],
   "source": [
    "client = MlflowClient(tracking_uri=settings.MLFLOW_TRACKING_URI)\n"
   ]
  },
  {
   "cell_type": "code",
   "execution_count": 167,
   "metadata": {},
   "outputs": [
    {
     "data": {
      "text/plain": [
       "'D5-50Mresnet34C0.1WD0.2LR0.4M0.1'"
      ]
     },
     "execution_count": 167,
     "metadata": {},
     "output_type": "execute_result"
    }
   ],
   "source": [
    "experiment_names = [\n",
    "    \"IMAGENET1K-4-50\",\n",
    "    \"IMAGENET1K-5-50\",\n",
    "    \"IMAGENET1K-6-75\",\n",
    "    \"D4-50Mresnet34C0.1WD0.2LR0.4M0.1\",\n",
    "    \"D5-50Mresnet34C0.1WD0.2LR0.4M0.1\",\n",
    "    \"D6-75Mresnet34C0.1WD0.2LR0.4M0.1\"\n",
    "]\n",
    "experiment = client.get_experiment_by_name(experiment_names[4])\n",
    "assert experiment is not None\n",
    "experiment.name\n"
   ]
  },
  {
   "cell_type": "code",
   "execution_count": 168,
   "metadata": {},
   "outputs": [],
   "source": [
    "assert experiment is not None\n",
    "runs = client.search_runs([experiment.experiment_id])\n"
   ]
  },
  {
   "cell_type": "code",
   "execution_count": 169,
   "metadata": {},
   "outputs": [
    {
     "data": {
      "text/html": [
       "<div>\n",
       "<style scoped>\n",
       "    .dataframe tbody tr th:only-of-type {\n",
       "        vertical-align: middle;\n",
       "    }\n",
       "\n",
       "    .dataframe tbody tr th {\n",
       "        vertical-align: top;\n",
       "    }\n",
       "\n",
       "    .dataframe thead th {\n",
       "        text-align: right;\n",
       "    }\n",
       "</style>\n",
       "<table border=\"1\" class=\"dataframe\">\n",
       "  <thead>\n",
       "    <tr style=\"text-align: right;\">\n",
       "      <th></th>\n",
       "      <th>Source Errors</th>\n",
       "      <th>Target Errors</th>\n",
       "    </tr>\n",
       "  </thead>\n",
       "  <tbody>\n",
       "    <tr>\n",
       "      <th>count</th>\n",
       "      <td>976.000000</td>\n",
       "      <td>976.000000</td>\n",
       "    </tr>\n",
       "    <tr>\n",
       "      <th>mean</th>\n",
       "      <td>81.950797</td>\n",
       "      <td>77.586133</td>\n",
       "    </tr>\n",
       "    <tr>\n",
       "      <th>std</th>\n",
       "      <td>17.297296</td>\n",
       "      <td>22.294831</td>\n",
       "    </tr>\n",
       "    <tr>\n",
       "      <th>min</th>\n",
       "      <td>0.000000</td>\n",
       "      <td>0.000000</td>\n",
       "    </tr>\n",
       "    <tr>\n",
       "      <th>25%</th>\n",
       "      <td>73.846154</td>\n",
       "      <td>66.153846</td>\n",
       "    </tr>\n",
       "    <tr>\n",
       "      <th>50%</th>\n",
       "      <td>86.153846</td>\n",
       "      <td>84.615385</td>\n",
       "    </tr>\n",
       "    <tr>\n",
       "      <th>75%</th>\n",
       "      <td>95.384615</td>\n",
       "      <td>95.384615</td>\n",
       "    </tr>\n",
       "    <tr>\n",
       "      <th>max</th>\n",
       "      <td>100.000000</td>\n",
       "      <td>100.000000</td>\n",
       "    </tr>\n",
       "  </tbody>\n",
       "</table>\n",
       "</div>"
      ],
      "text/plain": [
       "       Source Errors  Target Errors\n",
       "count     976.000000     976.000000\n",
       "mean       81.950797      77.586133\n",
       "std        17.297296      22.294831\n",
       "min         0.000000       0.000000\n",
       "25%        73.846154      66.153846\n",
       "50%        86.153846      84.615385\n",
       "75%        95.384615      95.384615\n",
       "max       100.000000     100.000000"
      ]
     },
     "execution_count": 169,
     "metadata": {},
     "output_type": "execute_result"
    }
   ],
   "source": [
    "src_errors = []\n",
    "tgt_errors = []\n",
    "pimps = []\n",
    "for run in runs:\n",
    "    N = int(run.data.params[\"Frames\"])\n",
    "    filename = run.data.params[\"Filename\"]\n",
    "    src_acc_top1 = run.data.metrics[\"Source Accumulated Top-1 Count\"]\n",
    "    tgt_acc_top1 = run.data.metrics[\"Target Accumulated Top-1 Count\"]\n",
    "    pimp = (\n",
    "        100 * (tgt_acc_top1 - src_acc_top1) / (src_acc_top1) if src_acc_top1 != 0 else 0\n",
    "    )\n",
    "    src_error = 100 * (N - src_acc_top1) / N\n",
    "    tgt_error = 100 * (N - tgt_acc_top1) / N\n",
    "    assert src_error >= 0, (src_error, src_acc_top1, N, filename)\n",
    "    assert tgt_error >= 0, (tgt_error, tgt_acc_top1, N, filename)\n",
    "    pimps.append(pimp)\n",
    "    src_errors.append(src_error)\n",
    "    tgt_errors.append(tgt_error)\n",
    "\n",
    "df = pd.DataFrame(\n",
    "    {\n",
    "        \"Source Errors\": src_errors,\n",
    "        \"Target Errors\": tgt_errors,\n",
    "        # \"Percentage Change\": pimps,\n",
    "    }\n",
    ")\n",
    "df.describe()\n"
   ]
  },
  {
   "cell_type": "markdown",
   "metadata": {},
   "source": []
  },
  {
   "cell_type": "code",
   "execution_count": 49,
   "metadata": {},
   "outputs": [
    {
     "name": "stdout",
     "output_type": "stream",
     "text": [
      "data/video/994-stinkhorn-5-65.mp4\n",
      "30.0 29.0\n",
      "data/video/984-rapeseed-5-65.mp4\n",
      "33.0 32.0\n",
      "data/video/979-valley-5-65.mp4\n",
      "16.0 1.0\n",
      "data/video/976-promontory-5-65.mp4\n",
      "8.0 6.0\n",
      "data/video/970-alp-5-65.mp4\n",
      "29.0 16.0\n",
      "data/video/968-cup-5-65.mp4\n",
      "4.0 2.0\n",
      "data/video/964-potpie-5-65.mp4\n",
      "41.0 40.0\n",
      "data/video/962-meat_loaf-5-65.mp4\n",
      "14.0 13.0\n",
      "data/video/961-dough-5-65.mp4\n",
      "7.0 4.0\n",
      "data/video/941-acorn_squash-5-65.mp4\n",
      "9.0 7.0\n",
      "data/video/935-mashed_potato-5-65.mp4\n",
      "16.0 13.0\n",
      "data/video/917-comic_book-5-65.mp4\n",
      "16.0 15.0\n",
      "data/video/910-wooden_spoon-5-65.mp4\n",
      "10.0 8.0\n"
     ]
    }
   ],
   "source": [
    "for run in runs[:100]:\n",
    "    N = int(run.data.params[\"Frames\"])\n",
    "    src_acc_top1 = run.data.metrics[\"Source Accumulated Correct Count\"]\n",
    "    tgt_acc_top1 = run.data.metrics[\"Target Accumulated Correct Count\"]\n",
    "    if src_acc_top1 > tgt_acc_top1:\n",
    "        print(run.data.params[\"Filename\"])\n",
    "        print(src_acc_top1, tgt_acc_top1)\n"
   ]
  },
  {
   "cell_type": "code",
   "execution_count": null,
   "metadata": {},
   "outputs": [],
   "source": []
  },
  {
   "cell_type": "code",
   "execution_count": null,
   "metadata": {},
   "outputs": [],
   "source": []
  }
 ],
 "metadata": {
  "kernelspec": {
   "display_name": "Python 3.9.13 ('.venv': poetry)",
   "language": "python",
   "name": "python3"
  },
  "language_info": {
   "codemirror_mode": {
    "name": "ipython",
    "version": 3
   },
   "file_extension": ".py",
   "mimetype": "text/x-python",
   "name": "python",
   "nbconvert_exporter": "python",
   "pygments_lexer": "ipython3",
   "version": "3.9.13"
  },
  "orig_nbformat": 4,
  "vscode": {
   "interpreter": {
    "hash": "48a83ca3aee1feddb0dfc5a060f9f80ff0dd60294765f4f1c97838d8341a23c1"
   }
  }
 },
 "nbformat": 4,
 "nbformat_minor": 2
}

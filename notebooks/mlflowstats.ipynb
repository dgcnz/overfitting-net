{
 "cells": [
  {
   "cell_type": "code",
   "execution_count": 8,
   "metadata": {},
   "outputs": [],
   "source": [
    "import mlflow\n",
    "from mlflow.client import MlflowClient\n",
    "import pandas as pd\n",
    "import os\n",
    "from overfit.env_settings import settings\n"
   ]
  },
  {
   "cell_type": "code",
   "execution_count": 9,
   "metadata": {},
   "outputs": [],
   "source": [
    "client = MlflowClient(tracking_uri=settings.MLFLOW_TRACKING_URI)\n"
   ]
  },
  {
   "cell_type": "code",
   "execution_count": 74,
   "metadata": {},
   "outputs": [],
   "source": [
    "experiment_names = [\"IMAGENET1K-4-50\", \"IMAGENET1K-5-50\", \"IMAGENET1K-6-75\"]\n",
    "experiment = client.get_experiment_by_name(experiment_names[2])\n"
   ]
  },
  {
   "cell_type": "code",
   "execution_count": 82,
   "metadata": {},
   "outputs": [],
   "source": [
    "assert experiment is not None\n",
    "runs = client.search_runs([experiment.experiment_id])\n"
   ]
  },
  {
   "cell_type": "code",
   "execution_count": 94,
   "metadata": {},
   "outputs": [
    {
     "data": {
      "text/plain": [
       "count    182.000000\n",
       "mean      15.206735\n",
       "std       18.931874\n",
       "min      -15.000000\n",
       "25%        3.791727\n",
       "50%       10.840188\n",
       "75%       21.573359\n",
       "max      114.285714\n",
       "dtype: float64"
      ]
     },
     "execution_count": 94,
     "metadata": {},
     "output_type": "execute_result"
    }
   ],
   "source": [
    "pimps = []\n",
    "for run in runs:\n",
    "    N = int(run.data.params[\"Frames\"])\n",
    "    src_acc_top1 = run.data.metrics[\"Source Accumulated Top-1 Count\"]\n",
    "    tgt_acc_top1 = run.data.metrics[\"Target Accumulated Top-1 Count\"]\n",
    "    if src_acc_top1 < 20:\n",
    "        continue\n",
    "    pimp = 100 * (tgt_acc_top1 - src_acc_top1) / (src_acc_top1)\n",
    "    pimps.append(pimp)\n",
    "    if (pimp == -100):\n",
    "        print(run.data.params[\"Filename\"])\n",
    "        print(src_acc_top1, tgt_acc_top1)\n",
    "\n",
    "pimps = pd.Series(pimps)\n",
    "pimps.describe()"
   ]
  },
  {
   "cell_type": "code",
   "execution_count": 99,
   "metadata": {},
   "outputs": [
    {
     "data": {
      "text/html": [
       "<div>\n",
       "<style scoped>\n",
       "    .dataframe tbody tr th:only-of-type {\n",
       "        vertical-align: middle;\n",
       "    }\n",
       "\n",
       "    .dataframe tbody tr th {\n",
       "        vertical-align: top;\n",
       "    }\n",
       "\n",
       "    .dataframe thead th {\n",
       "        text-align: right;\n",
       "    }\n",
       "</style>\n",
       "<table border=\"1\" class=\"dataframe\">\n",
       "  <thead>\n",
       "    <tr style=\"text-align: right;\">\n",
       "      <th></th>\n",
       "      <th>Source Errors</th>\n",
       "      <th>Target Errors</th>\n",
       "    </tr>\n",
       "  </thead>\n",
       "  <tbody>\n",
       "    <tr>\n",
       "      <th>count</th>\n",
       "      <td>514.000000</td>\n",
       "      <td>514.000000</td>\n",
       "    </tr>\n",
       "    <tr>\n",
       "      <th>mean</th>\n",
       "      <td>0.735470</td>\n",
       "      <td>0.694715</td>\n",
       "    </tr>\n",
       "    <tr>\n",
       "      <th>std</th>\n",
       "      <td>0.189946</td>\n",
       "      <td>0.220975</td>\n",
       "    </tr>\n",
       "    <tr>\n",
       "      <th>min</th>\n",
       "      <td>0.030303</td>\n",
       "      <td>0.015152</td>\n",
       "    </tr>\n",
       "    <tr>\n",
       "      <th>25%</th>\n",
       "      <td>0.636364</td>\n",
       "      <td>0.590909</td>\n",
       "    </tr>\n",
       "    <tr>\n",
       "      <th>50%</th>\n",
       "      <td>0.772727</td>\n",
       "      <td>0.727273</td>\n",
       "    </tr>\n",
       "    <tr>\n",
       "      <th>75%</th>\n",
       "      <td>0.878788</td>\n",
       "      <td>0.863636</td>\n",
       "    </tr>\n",
       "    <tr>\n",
       "      <th>max</th>\n",
       "      <td>1.000000</td>\n",
       "      <td>1.000000</td>\n",
       "    </tr>\n",
       "  </tbody>\n",
       "</table>\n",
       "</div>"
      ],
      "text/plain": [
       "       Source Errors  Target Errors\n",
       "count     514.000000     514.000000\n",
       "mean        0.735470       0.694715\n",
       "std         0.189946       0.220975\n",
       "min         0.030303       0.015152\n",
       "25%         0.636364       0.590909\n",
       "50%         0.772727       0.727273\n",
       "75%         0.878788       0.863636\n",
       "max         1.000000       1.000000"
      ]
     },
     "execution_count": 99,
     "metadata": {},
     "output_type": "execute_result"
    }
   ],
   "source": [
    "src_errors = []\n",
    "tgt_errors = []\n",
    "for run in runs:\n",
    "    N = int(run.data.params[\"Frames\"])\n",
    "    src_acc_top1 = run.data.metrics[\"Source Accumulated Top-1 Count\"]\n",
    "    tgt_acc_top1 = run.data.metrics[\"Target Accumulated Top-1 Count\"]\n",
    "    src_errors.append((N - src_acc_top1)/N)\n",
    "    tgt_errors.append((N - tgt_acc_top1)/N)\n",
    "\n",
    "df = pd.DataFrame({\"Source Errors\": src_errors, \"Target Errors\": tgt_errors})\n",
    "df.describe()"
   ]
  },
  {
   "cell_type": "markdown",
   "metadata": {},
   "source": []
  },
  {
   "cell_type": "code",
   "execution_count": 49,
   "metadata": {},
   "outputs": [
    {
     "name": "stdout",
     "output_type": "stream",
     "text": [
      "data/video/994-stinkhorn-5-65.mp4\n",
      "30.0 29.0\n",
      "data/video/984-rapeseed-5-65.mp4\n",
      "33.0 32.0\n",
      "data/video/979-valley-5-65.mp4\n",
      "16.0 1.0\n",
      "data/video/976-promontory-5-65.mp4\n",
      "8.0 6.0\n",
      "data/video/970-alp-5-65.mp4\n",
      "29.0 16.0\n",
      "data/video/968-cup-5-65.mp4\n",
      "4.0 2.0\n",
      "data/video/964-potpie-5-65.mp4\n",
      "41.0 40.0\n",
      "data/video/962-meat_loaf-5-65.mp4\n",
      "14.0 13.0\n",
      "data/video/961-dough-5-65.mp4\n",
      "7.0 4.0\n",
      "data/video/941-acorn_squash-5-65.mp4\n",
      "9.0 7.0\n",
      "data/video/935-mashed_potato-5-65.mp4\n",
      "16.0 13.0\n",
      "data/video/917-comic_book-5-65.mp4\n",
      "16.0 15.0\n",
      "data/video/910-wooden_spoon-5-65.mp4\n",
      "10.0 8.0\n"
     ]
    }
   ],
   "source": [
    "for run in runs[:100]:\n",
    "    N = int(run.data.params[\"Frames\"])\n",
    "    src_acc_top1 = run.data.metrics[\"Source Accumulated Correct Count\"]\n",
    "    tgt_acc_top1 = run.data.metrics[\"Target Accumulated Correct Count\"]\n",
    "    if src_acc_top1 > tgt_acc_top1:\n",
    "        print(run.data.params[\"Filename\"])\n",
    "        print(src_acc_top1, tgt_acc_top1)\n"
   ]
  },
  {
   "cell_type": "code",
   "execution_count": null,
   "metadata": {},
   "outputs": [],
   "source": []
  },
  {
   "cell_type": "code",
   "execution_count": null,
   "metadata": {},
   "outputs": [],
   "source": []
  }
 ],
 "metadata": {
  "kernelspec": {
   "display_name": "Python 3.9.13 ('.venv': poetry)",
   "language": "python",
   "name": "python3"
  },
  "language_info": {
   "codemirror_mode": {
    "name": "ipython",
    "version": 3
   },
   "file_extension": ".py",
   "mimetype": "text/x-python",
   "name": "python",
   "nbconvert_exporter": "python",
   "pygments_lexer": "ipython3",
   "version": "3.9.13"
  },
  "orig_nbformat": 4,
  "vscode": {
   "interpreter": {
    "hash": "48a83ca3aee1feddb0dfc5a060f9f80ff0dd60294765f4f1c97838d8341a23c1"
   }
  }
 },
 "nbformat": 4,
 "nbformat_minor": 2
}

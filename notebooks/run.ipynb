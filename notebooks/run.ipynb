{
 "cells": [
  {
   "cell_type": "code",
   "execution_count": 2,
   "id": "4457f995-1b32-4061-b47e-cbe59f4f06fa",
   "metadata": {
    "execution": {
     "iopub.execute_input": "2022-11-20T23:59:31.573394Z",
     "iopub.status.busy": "2022-11-20T23:59:31.572845Z",
     "iopub.status.idle": "2022-11-20T23:59:41.256213Z",
     "shell.execute_reply": "2022-11-20T23:59:41.255417Z",
     "shell.execute_reply.started": "2022-11-20T23:59:31.573334Z"
    }
   },
   "outputs": [
    {
     "name": "stdout",
     "output_type": "stream",
     "text": [
      "Requirement already satisfied: mlflow in /usr/local/lib/python3.9/dist-packages (2.0.1)\n",
      "Requirement already satisfied: transformers in /usr/local/lib/python3.9/dist-packages (4.20.1)\n",
      "Requirement already satisfied: datasets in /usr/local/lib/python3.9/dist-packages (2.3.2)\n",
      "Requirement already satisfied: pydantic[dotenv] in /usr/local/lib/python3.9/dist-packages (1.9.1)\n",
      "Requirement already satisfied: av in /usr/local/lib/python3.9/dist-packages (10.0.0)\n",
      "Requirement already satisfied: querystring-parser<2 in /usr/local/lib/python3.9/dist-packages (from mlflow) (1.2.4)\n",
      "Requirement already satisfied: alembic<2 in /usr/local/lib/python3.9/dist-packages (from mlflow) (1.8.1)\n",
      "Requirement already satisfied: sqlalchemy<2,>=1.4.0 in /usr/local/lib/python3.9/dist-packages (from mlflow) (1.4.39)\n",
      "Requirement already satisfied: pyarrow<11,>=4.0.0 in /usr/local/lib/python3.9/dist-packages (from mlflow) (8.0.0)\n",
      "Requirement already satisfied: databricks-cli<1,>=0.8.7 in /usr/local/lib/python3.9/dist-packages (from mlflow) (0.17.3)\n",
      "Requirement already satisfied: sqlparse<1,>=0.4.0 in /usr/local/lib/python3.9/dist-packages (from mlflow) (0.4.3)\n",
      "Requirement already satisfied: gitpython<4,>=2.1.0 in /usr/local/lib/python3.9/dist-packages (from mlflow) (3.1.27)\n",
      "Requirement already satisfied: click<9,>=7.0 in /usr/local/lib/python3.9/dist-packages (from mlflow) (8.1.3)\n",
      "Requirement already satisfied: pyyaml<7,>=5.1 in /usr/local/lib/python3.9/dist-packages (from mlflow) (5.4.1)\n",
      "Requirement already satisfied: cloudpickle<3 in /usr/local/lib/python3.9/dist-packages (from mlflow) (2.1.0)\n",
      "Requirement already satisfied: docker<7,>=4.0.0 in /usr/local/lib/python3.9/dist-packages (from mlflow) (6.0.1)\n",
      "Requirement already satisfied: gunicorn<21 in /usr/local/lib/python3.9/dist-packages (from mlflow) (20.1.0)\n",
      "Requirement already satisfied: scipy<2 in /usr/local/lib/python3.9/dist-packages (from mlflow) (1.8.1)\n",
      "Requirement already satisfied: numpy<2 in /usr/local/lib/python3.9/dist-packages (from mlflow) (1.23.1)\n",
      "Requirement already satisfied: packaging<22 in /usr/local/lib/python3.9/dist-packages (from mlflow) (21.3)\n",
      "Requirement already satisfied: scikit-learn<2 in /usr/local/lib/python3.9/dist-packages (from mlflow) (1.1.1)\n",
      "Requirement already satisfied: requests<3,>=2.17.3 in /usr/local/lib/python3.9/dist-packages (from mlflow) (2.28.1)\n",
      "Requirement already satisfied: markdown<4,>=3.3 in /usr/local/lib/python3.9/dist-packages (from mlflow) (3.3.7)\n",
      "Requirement already satisfied: shap<1,>=0.40 in /usr/local/lib/python3.9/dist-packages (from mlflow) (0.41.0)\n",
      "Requirement already satisfied: pytz<2023 in /usr/local/lib/python3.9/dist-packages (from mlflow) (2022.1)\n",
      "Requirement already satisfied: protobuf<5,>=3.12.0 in /usr/local/lib/python3.9/dist-packages (from mlflow) (3.19.4)\n",
      "Requirement already satisfied: entrypoints<1 in /usr/local/lib/python3.9/dist-packages (from mlflow) (0.4)\n",
      "Requirement already satisfied: Jinja2<4,>=2.11 in /usr/local/lib/python3.9/dist-packages (from mlflow) (3.1.2)\n",
      "Requirement already satisfied: Flask<3 in /usr/local/lib/python3.9/dist-packages (from mlflow) (2.2.2)\n",
      "Requirement already satisfied: importlib-metadata!=4.7.0,<6,>=3.7.0 in /usr/local/lib/python3.9/dist-packages (from mlflow) (4.12.0)\n",
      "Requirement already satisfied: pandas<2 in /usr/local/lib/python3.9/dist-packages (from mlflow) (1.4.3)\n",
      "Requirement already satisfied: matplotlib<4 in /usr/local/lib/python3.9/dist-packages (from mlflow) (3.5.2)\n",
      "Requirement already satisfied: tokenizers!=0.11.3,<0.13,>=0.11.1 in /usr/local/lib/python3.9/dist-packages (from transformers) (0.12.1)\n",
      "Requirement already satisfied: huggingface-hub<1.0,>=0.1.0 in /usr/local/lib/python3.9/dist-packages (from transformers) (0.8.1)\n",
      "Requirement already satisfied: tqdm>=4.27 in /usr/local/lib/python3.9/dist-packages (from transformers) (4.64.0)\n",
      "Requirement already satisfied: regex!=2019.12.17 in /usr/local/lib/python3.9/dist-packages (from transformers) (2022.7.9)\n",
      "Requirement already satisfied: filelock in /usr/local/lib/python3.9/dist-packages (from transformers) (3.7.1)\n",
      "Requirement already satisfied: multiprocess in /usr/local/lib/python3.9/dist-packages (from datasets) (0.70.13)\n",
      "Requirement already satisfied: fsspec[http]>=2021.05.0 in /usr/local/lib/python3.9/dist-packages (from datasets) (2022.5.0)\n",
      "Requirement already satisfied: responses<0.19 in /usr/local/lib/python3.9/dist-packages (from datasets) (0.18.0)\n",
      "Requirement already satisfied: aiohttp in /usr/local/lib/python3.9/dist-packages (from datasets) (3.8.1)\n",
      "Requirement already satisfied: dill<0.3.6 in /usr/local/lib/python3.9/dist-packages (from datasets) (0.3.5.1)\n",
      "Requirement already satisfied: xxhash in /usr/local/lib/python3.9/dist-packages (from datasets) (3.0.0)\n",
      "Requirement already satisfied: typing-extensions>=3.7.4.3 in /usr/local/lib/python3.9/dist-packages (from pydantic[dotenv]) (4.3.0)\n",
      "Requirement already satisfied: python-dotenv>=0.10.4 in /usr/local/lib/python3.9/dist-packages (from pydantic[dotenv]) (0.21.0)\n",
      "Requirement already satisfied: Mako in /usr/local/lib/python3.9/dist-packages (from alembic<2->mlflow) (1.2.4)\n",
      "Requirement already satisfied: oauthlib>=3.1.0 in /usr/local/lib/python3.9/dist-packages (from databricks-cli<1,>=0.8.7->mlflow) (3.2.0)\n",
      "Requirement already satisfied: tabulate>=0.7.7 in /usr/local/lib/python3.9/dist-packages (from databricks-cli<1,>=0.8.7->mlflow) (0.9.0)\n",
      "Requirement already satisfied: six>=1.10.0 in /usr/lib/python3/dist-packages (from databricks-cli<1,>=0.8.7->mlflow) (1.14.0)\n",
      "Requirement already satisfied: pyjwt>=1.7.0 in /usr/local/lib/python3.9/dist-packages (from databricks-cli<1,>=0.8.7->mlflow) (2.6.0)\n",
      "Requirement already satisfied: urllib3>=1.26.0 in /usr/local/lib/python3.9/dist-packages (from docker<7,>=4.0.0->mlflow) (1.26.10)\n",
      "Requirement already satisfied: websocket-client>=0.32.0 in /usr/local/lib/python3.9/dist-packages (from docker<7,>=4.0.0->mlflow) (0.57.0)\n",
      "Requirement already satisfied: Werkzeug>=2.2.2 in /usr/local/lib/python3.9/dist-packages (from Flask<3->mlflow) (2.2.2)\n",
      "Requirement already satisfied: itsdangerous>=2.0 in /usr/local/lib/python3.9/dist-packages (from Flask<3->mlflow) (2.1.2)\n",
      "Requirement already satisfied: gitdb<5,>=4.0.1 in /usr/local/lib/python3.9/dist-packages (from gitpython<4,>=2.1.0->mlflow) (4.0.9)\n",
      "Requirement already satisfied: setuptools>=3.0 in /usr/local/lib/python3.9/dist-packages (from gunicorn<21->mlflow) (63.1.0)\n",
      "Requirement already satisfied: zipp>=0.5 in /usr/local/lib/python3.9/dist-packages (from importlib-metadata!=4.7.0,<6,>=3.7.0->mlflow) (3.8.1)\n",
      "Requirement already satisfied: MarkupSafe>=2.0 in /usr/local/lib/python3.9/dist-packages (from Jinja2<4,>=2.11->mlflow) (2.1.1)\n",
      "Requirement already satisfied: fonttools>=4.22.0 in /usr/local/lib/python3.9/dist-packages (from matplotlib<4->mlflow) (4.34.4)\n",
      "Requirement already satisfied: kiwisolver>=1.0.1 in /usr/local/lib/python3.9/dist-packages (from matplotlib<4->mlflow) (1.4.3)\n",
      "Requirement already satisfied: pillow>=6.2.0 in /usr/local/lib/python3.9/dist-packages (from matplotlib<4->mlflow) (9.2.0)\n",
      "Requirement already satisfied: pyparsing>=2.2.1 in /usr/local/lib/python3.9/dist-packages (from matplotlib<4->mlflow) (3.0.9)\n",
      "Requirement already satisfied: python-dateutil>=2.7 in /usr/local/lib/python3.9/dist-packages (from matplotlib<4->mlflow) (2.8.2)\n",
      "Requirement already satisfied: cycler>=0.10 in /usr/local/lib/python3.9/dist-packages (from matplotlib<4->mlflow) (0.11.0)\n",
      "Requirement already satisfied: certifi>=2017.4.17 in /usr/lib/python3/dist-packages (from requests<3,>=2.17.3->mlflow) (2019.11.28)\n",
      "Requirement already satisfied: idna<4,>=2.5 in /usr/lib/python3/dist-packages (from requests<3,>=2.17.3->mlflow) (2.8)\n",
      "Requirement already satisfied: charset-normalizer<3,>=2 in /usr/local/lib/python3.9/dist-packages (from requests<3,>=2.17.3->mlflow) (2.1.0)\n",
      "Requirement already satisfied: threadpoolctl>=2.0.0 in /usr/local/lib/python3.9/dist-packages (from scikit-learn<2->mlflow) (3.1.0)\n",
      "Requirement already satisfied: joblib>=1.0.0 in /usr/local/lib/python3.9/dist-packages (from scikit-learn<2->mlflow) (1.1.0)\n",
      "Requirement already satisfied: slicer==0.0.7 in /usr/local/lib/python3.9/dist-packages (from shap<1,>=0.40->mlflow) (0.0.7)\n",
      "Requirement already satisfied: numba in /usr/local/lib/python3.9/dist-packages (from shap<1,>=0.40->mlflow) (0.56.4)\n",
      "Requirement already satisfied: greenlet!=0.4.17 in /usr/local/lib/python3.9/dist-packages (from sqlalchemy<2,>=1.4.0->mlflow) (1.1.2)\n",
      "Requirement already satisfied: attrs>=17.3.0 in /usr/local/lib/python3.9/dist-packages (from aiohttp->datasets) (18.2.0)\n",
      "Requirement already satisfied: multidict<7.0,>=4.5 in /usr/local/lib/python3.9/dist-packages (from aiohttp->datasets) (6.0.2)\n",
      "Requirement already satisfied: frozenlist>=1.1.1 in /usr/local/lib/python3.9/dist-packages (from aiohttp->datasets) (1.3.0)\n",
      "Requirement already satisfied: aiosignal>=1.1.2 in /usr/local/lib/python3.9/dist-packages (from aiohttp->datasets) (1.2.0)\n",
      "Requirement already satisfied: yarl<2.0,>=1.0 in /usr/local/lib/python3.9/dist-packages (from aiohttp->datasets) (1.7.2)\n",
      "Requirement already satisfied: async-timeout<5.0,>=4.0.0a3 in /usr/local/lib/python3.9/dist-packages (from aiohttp->datasets) (4.0.2)\n",
      "Requirement already satisfied: smmap<6,>=3.0.1 in /usr/local/lib/python3.9/dist-packages (from gitdb<5,>=4.0.1->gitpython<4,>=2.1.0->mlflow) (5.0.0)\n",
      "Requirement already satisfied: llvmlite<0.40,>=0.39.0dev0 in /usr/local/lib/python3.9/dist-packages (from numba->shap<1,>=0.40->mlflow) (0.39.1)\n",
      "\u001b[33mWARNING: Running pip as the 'root' user can result in broken permissions and conflicting behaviour with the system package manager. It is recommended to use a virtual environment instead: https://pip.pypa.io/warnings/venv\u001b[0m\u001b[33m\n",
      "\u001b[0m"
     ]
    }
   ],
   "source": [
    "! pip install mlflow transformers datasets \"pydantic[dotenv]\" av"
   ]
  },
  {
   "cell_type": "code",
   "execution_count": 2,
   "id": "af7a1894-b864-454b-907b-29448bb9528e",
   "metadata": {
    "execution": {
     "iopub.execute_input": "2022-11-20T23:59:41.257732Z",
     "iopub.status.busy": "2022-11-20T23:59:41.257576Z",
     "iopub.status.idle": "2022-11-20T23:59:41.262318Z",
     "shell.execute_reply": "2022-11-20T23:59:41.261753Z",
     "shell.execute_reply.started": "2022-11-20T23:59:41.257731Z"
    }
   },
   "outputs": [
    {
     "name": "stdout",
     "output_type": "stream",
     "text": [
      "/notebooks\n"
     ]
    }
   ],
   "source": [
    "%cd .."
   ]
  },
  {
   "cell_type": "code",
   "execution_count": 4,
   "id": "b919b463-3e68-474e-812b-ea36129adff4",
   "metadata": {
    "execution": {
     "iopub.execute_input": "2022-11-20T23:59:41.263121Z",
     "iopub.status.busy": "2022-11-20T23:59:41.263012Z",
     "iopub.status.idle": "2022-11-20T23:59:41.685550Z",
     "shell.execute_reply": "2022-11-20T23:59:41.684810Z",
     "shell.execute_reply.started": "2022-11-20T23:59:41.263108Z"
    }
   },
   "outputs": [
    {
     "name": "stdout",
     "output_type": "stream",
     "text": [
      "Makefile   gallery.md\t\t      mlflow.db  overfit\t scripts\n",
      "README.md  imagenet_classes.txt       mlruns\t poetry.lock\t sphere.png\n",
      "data\t   imagenet_map_classes.json  notebooks  pyproject.toml\n"
     ]
    }
   ],
   "source": [
    "!ls "
   ]
  },
  {
   "cell_type": "code",
   "execution_count": 5,
   "id": "ea7aca5f-dc43-4ac0-be37-00aae532fe9a",
   "metadata": {
    "execution": {
     "iopub.execute_input": "2022-11-21T01:53:01.529328Z",
     "iopub.status.busy": "2022-11-21T01:53:01.528934Z",
     "iopub.status.idle": "2022-11-21T01:53:01.541380Z",
     "shell.execute_reply": "2022-11-21T01:53:01.540858Z",
     "shell.execute_reply.started": "2022-11-21T01:53:01.529307Z"
    }
   },
   "outputs": [],
   "source": [
    "import argparse\n",
    "import logging\n",
    "import os\n",
    "\n",
    "import mlflow\n",
    "from overfit.models.vit import ViT\n",
    "from overfit.trainers.overfit import OverfitTrainer\n",
    "from overfit.utils.misc import parse_video_path_params\n",
    "from torchvision.io import read_video\n",
    "from torchvision import transforms\n",
    "from torchvision.models import vit_b_16, ViT_B_16_Weights\n",
    "from torchvision.models import ResNet50_Weights, resnet50\n",
    "from torchvision.models import ResNet34_Weights, resnet34\n",
    "from torchvision.models import ResNet18_Weights, resnet18\n",
    "from pathlib import Path\n",
    "import torch\n",
    "from tqdm.notebook import tqdm\n",
    "from mlflow.client import MlflowClient\n",
    "from overfit.env_settings import settings"
   ]
  },
  {
   "cell_type": "code",
   "execution_count": 6,
   "id": "e11934a1-da53-4cec-a167-5443aef5ede1",
   "metadata": {
    "execution": {
     "iopub.execute_input": "2022-11-21T00:00:27.146130Z",
     "iopub.status.busy": "2022-11-21T00:00:27.145556Z",
     "iopub.status.idle": "2022-11-21T00:00:27.149643Z",
     "shell.execute_reply": "2022-11-21T00:00:27.149033Z",
     "shell.execute_reply.started": "2022-11-21T00:00:27.146108Z"
    }
   },
   "outputs": [],
   "source": [
    "DATASET = \"4-50\"\n",
    "CONFIDENCE=0.1\n",
    "WEIGHT_DECAY=0.2\n",
    "MAX_LR=0.4\n",
    "MOMENTUM=0.1\n",
    "MODELS = [\"resnet18\", \"resnet34\", \"resnet50\", \"vit\"]\n",
    "MODEL=MODELS[2]\n",
    "EXPERIMENT_NAME = f\"D{DATASET}M{MODEL}C{CONFIDENCE}WD{WEIGHT_DECAY}LR{MAX_LR}M{MOMENTUM}\""
   ]
  },
  {
   "cell_type": "code",
   "execution_count": 7,
   "id": "778573af-a2d3-4162-b23f-f5d6d3225858",
   "metadata": {
    "execution": {
     "iopub.execute_input": "2022-11-21T00:00:38.931224Z",
     "iopub.status.busy": "2022-11-21T00:00:38.930476Z",
     "iopub.status.idle": "2022-11-21T00:00:39.696977Z",
     "shell.execute_reply": "2022-11-21T00:00:39.696363Z",
     "shell.execute_reply.started": "2022-11-21T00:00:38.931203Z"
    }
   },
   "outputs": [
    {
     "name": "stdout",
     "output_type": "stream",
     "text": [
      "27 D4-50Mresnet50C0.1WD0.2LR0.4M0.1\n"
     ]
    }
   ],
   "source": [
    "client = MlflowClient(tracking_uri=settings.MLFLOW_TRACKING_URI)\n",
    "mlflow.set_tracking_uri(settings.MLFLOW_TRACKING_URI)\n",
    "try:\n",
    "  MLFLOW_EXPERIMENT_ID = client.create_experiment(EXPERIMENT_NAME)\n",
    "except Exception as e:\n",
    "  MLFLOW_EXPERIMENT_ID = client.get_experiment_by_name(EXPERIMENT_NAME).experiment_id\n",
    "print(MLFLOW_EXPERIMENT_ID, EXPERIMENT_NAME)"
   ]
  },
  {
   "cell_type": "code",
   "execution_count": 8,
   "id": "f59c007d-a9dc-4fe3-b09e-d4bbe9b49d06",
   "metadata": {
    "execution": {
     "iopub.execute_input": "2022-11-21T00:00:43.939024Z",
     "iopub.status.busy": "2022-11-21T00:00:43.938281Z",
     "iopub.status.idle": "2022-11-21T00:00:43.943099Z",
     "shell.execute_reply": "2022-11-21T00:00:43.942424Z",
     "shell.execute_reply.started": "2022-11-21T00:00:43.939002Z"
    }
   },
   "outputs": [
    {
     "data": {
      "text/plain": [
       "device(type='cuda')"
      ]
     },
     "execution_count": 8,
     "metadata": {},
     "output_type": "execute_result"
    }
   ],
   "source": [
    "device = torch.device(\"cuda\") if torch.cuda.is_available() else torch.device(\"cpu\")\n",
    "device"
   ]
  },
  {
   "cell_type": "code",
   "execution_count": 9,
   "id": "f8c9c6b0-997b-492f-8098-6526f96e22d9",
   "metadata": {
    "execution": {
     "iopub.execute_input": "2022-11-21T00:00:44.306468Z",
     "iopub.status.busy": "2022-11-21T00:00:44.305724Z",
     "iopub.status.idle": "2022-11-21T00:00:44.310113Z",
     "shell.execute_reply": "2022-11-21T00:00:44.309563Z",
     "shell.execute_reply.started": "2022-11-21T00:00:44.306452Z"
    }
   },
   "outputs": [],
   "source": [
    "class ToFloat(object):\n",
    "    def __init__(self):\n",
    "      pass\n",
    "\n",
    "    def __call__(self, tensor):\n",
    "      return (tensor / 255.0).type(torch.float32)\n",
    "\n",
    "TRANSFORM_IMG = transforms.Compose([\n",
    "    transforms.Resize((224, 224)),\n",
    "    ToFloat(),\n",
    "    transforms.Normalize(mean=[0.485, 0.456, 0.406],\n",
    "                         std=[0.229, 0.224, 0.225] )\n",
    "    ])"
   ]
  },
  {
   "cell_type": "code",
   "execution_count": 10,
   "id": "1795fd08-9646-470b-89b2-8af2b63249d0",
   "metadata": {
    "execution": {
     "iopub.execute_input": "2022-11-21T00:01:20.872296Z",
     "iopub.status.busy": "2022-11-21T00:01:20.871714Z",
     "iopub.status.idle": "2022-11-21T00:01:21.285843Z",
     "shell.execute_reply": "2022-11-21T00:01:21.285175Z",
     "shell.execute_reply.started": "2022-11-21T00:01:20.872271Z"
    }
   },
   "outputs": [
    {
     "name": "stdout",
     "output_type": "stream",
     "text": [
      "imagenet1k-4-50  imagenet1k-5-50  imagenet1k-6-75\n"
     ]
    }
   ],
   "source": [
    "!ls /datasets"
   ]
  },
  {
   "cell_type": "code",
   "execution_count": 11,
   "id": "810f6040-a2a8-4ce0-b1eb-d94b1efdaab2",
   "metadata": {
    "execution": {
     "iopub.execute_input": "2022-11-21T00:01:22.210955Z",
     "iopub.status.busy": "2022-11-21T00:01:22.210664Z",
     "iopub.status.idle": "2022-11-21T00:01:22.268231Z",
     "shell.execute_reply": "2022-11-21T00:01:22.267753Z",
     "shell.execute_reply.started": "2022-11-21T00:01:22.210934Z"
    }
   },
   "outputs": [
    {
     "data": {
      "text/plain": [
       "[PosixPath('/datasets/imagenet1k-4-50/0-tench-4-40.mp4'),\n",
       " PosixPath('/datasets/imagenet1k-4-50/1-goldfish-4-40.mp4')]"
      ]
     },
     "execution_count": 11,
     "metadata": {},
     "output_type": "execute_result"
    }
   ],
   "source": [
    "videos = [v for v in Path(f\"/datasets/imagenet1k-{DATASET}\").glob(\"*.mp4\")]\n",
    "videos[:2]"
   ]
  },
  {
   "cell_type": "code",
   "execution_count": null,
   "id": "88f429e3-ce1a-423d-990b-4091e0f269c9",
   "metadata": {
    "execution": {
     "iopub.execute_input": "2022-11-21T00:02:01.443108Z",
     "iopub.status.busy": "2022-11-21T00:02:01.442316Z",
     "iopub.status.idle": "2022-11-21T01:44:59.571971Z",
     "shell.execute_reply": "2022-11-21T01:44:59.571468Z",
     "shell.execute_reply.started": "2022-11-21T00:02:01.443084Z"
    }
   },
   "outputs": [],
   "source": [
    "with open(\"imagenet_classes.txt\", \"r\") as f:\n",
    "    categories = f.readlines()\n",
    "    categories = [cat.rstrip(\"\\n\") for cat in categories]\n",
    "\n",
    "logging.info(\"Creating trainer\")\n",
    "# srcnet = ViT(device=device).eval().to(device)\n",
    "if MODEL == \"vit\":\n",
    "    srcnet = vit_b_16(weights=ViT_B_16_Weights.IMAGENET1K_V1).eval().to(device)\n",
    "elif MODEL == \"resnet34\":\n",
    "    srcnet = resnet34(weights=ResNet34_Weights.IMAGENET1K_V1).eval().to(device)\n",
    "elif MODEL == \"resnet50\":\n",
    "    srcnet = resnet50(weights=ResNet50_Weights.IMAGENET1K_V1).eval().to(device)\n",
    "elif MODEL == \"resnet8\":\n",
    "    srcnet = resnet18(weights=ResNet18_Weights.IMAGENET1K_V1).eval().to(device)\n",
    "else:\n",
    "    raise Exception(\"Unknown Source model\")\n",
    "for video_path in tqdm(videos):\n",
    "  video_path = str(video_path)\n",
    "  vid = read_video(video_path, output_format=\"TCHW\")[0]\n",
    "  vid = TRANSFORM_IMG(vid).to(device)\n",
    "  y_ix, _, crop_fraction, n_frames = parse_video_path_params(video_path)\n",
    "  logging.info(crop_fraction)\n",
    "  logging.info(n_frames)\n",
    "\n",
    "  tgtnet_trainer = OverfitTrainer(categories=categories)\n",
    "  tgtnet_trainer.set(\n",
    "      pretrained_classifier=srcnet,\n",
    "      num_classes=1000,\n",
    "      confidence=CONFIDENCE,\n",
    "      weight_decay=WEIGHT_DECAY,\n",
    "      max_lr=MAX_LR,\n",
    "      momentum=MOMENTUM,\n",
    "  )\n",
    "  tgtnet_trainer.model = tgtnet_trainer.model.to(device)\n",
    "\n",
    "  logging.info(\"Starting experiment\")\n",
    "  with mlflow.start_run(experiment_id=MLFLOW_EXPERIMENT_ID) as run:\n",
    "      mlflow.log_param(\"Crop fraction\", crop_fraction)\n",
    "      mlflow.log_param(\"Frames\", n_frames)\n",
    "      mlflow.log_param(\"Filename\", video_path)\n",
    "      mlflow.log_param(\"Source Model\", \"Resnet50\")\n",
    "      tgtnet_trainer.test(vid, [y_ix] * n_frames, active_run=run, hf_format=False)"
   ]
  },
  {
   "cell_type": "code",
   "execution_count": null,
   "id": "0e2fdc87-0914-4367-9e2f-58d9b38f1539",
   "metadata": {},
   "outputs": [],
   "source": []
  }
 ],
 "metadata": {
  "kernelspec": {
   "display_name": "Python 3.9.13 ('.venv': poetry)",
   "language": "python",
   "name": "python3"
  },
  "language_info": {
   "codemirror_mode": {
    "name": "ipython",
    "version": 3
   },
   "file_extension": ".py",
   "mimetype": "text/x-python",
   "name": "python",
   "nbconvert_exporter": "python",
   "pygments_lexer": "ipython3",
   "version": "3.9.13"
  },
  "vscode": {
   "interpreter": {
    "hash": "48a83ca3aee1feddb0dfc5a060f9f80ff0dd60294765f4f1c97838d8341a23c1"
   }
  }
 },
 "nbformat": 4,
 "nbformat_minor": 5
}

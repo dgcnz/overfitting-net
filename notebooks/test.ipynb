{
 "cells": [
  {
   "cell_type": "code",
   "execution_count": 7,
   "metadata": {},
   "outputs": [
    {
     "name": "stdout",
     "output_type": "stream",
     "text": [
      "The autoreload extension is already loaded. To reload it, use:\n",
      "  %reload_ext autoreload\n"
     ]
    }
   ],
   "source": [
    "%load_ext autoreload\n",
    "%autoreload 2"
   ]
  },
  {
   "cell_type": "code",
   "execution_count": 8,
   "metadata": {},
   "outputs": [],
   "source": [
    "import matplotlib"
   ]
  },
  {
   "cell_type": "code",
   "execution_count": 9,
   "metadata": {},
   "outputs": [],
   "source": [
    "%matplotlib widget"
   ]
  },
  {
   "cell_type": "code",
   "execution_count": 10,
   "metadata": {},
   "outputs": [],
   "source": [
    "from overfit.trainers.overfit import OverfitTrainer\n",
    "import matplotlib.pyplot as plt\n",
    "from PIL import Image\n",
    "from overfit.utils.img2vid import zigzag, display_video\n",
    "import torchvision.transforms.functional as FT\n",
    "from torchvision.models import resnet152, ResNet152_Weights\n",
    "from torchvision.models import resnet8, ResNet8_Weights\n",
    "import urllib"
   ]
  },
  {
   "cell_type": "code",
   "execution_count": 11,
   "metadata": {},
   "outputs": [],
   "source": [
    "# Download an example image from the pytorch website\n",
    "import urllib\n",
    "url, filename = (\"https://github.com/pytorch/hub/raw/master/images/dog.jpg\", \"dog.jpg\")\n",
    "try: urllib.URLopener().retrieve(url, filename)\n",
    "except: urllib.request.urlretrieve(url, filename)"
   ]
  },
  {
   "cell_type": "code",
   "execution_count": 13,
   "metadata": {},
   "outputs": [
    {
     "name": "stdout",
     "output_type": "stream",
     "text": [
      "69\n"
     ]
    }
   ],
   "source": [
    "input_image = Image.open(\"dog.jpg\")\n",
    "input_tensor = FT.to_tensor(input_image)\n",
    "_, h, w = input_tensor.size()\n",
    "input_video = zigzag(input_tensor, h // 3, w // 3)\n",
    "# vid = display_video(input_video)\n",
    "# vid.save(\"dog.mp4\")\n",
    "print(len(input_video))"
   ]
  },
  {
   "cell_type": "code",
   "execution_count": 15,
   "metadata": {},
   "outputs": [],
   "source": [
    "def normalize_rgb(img):\n",
    "    return FT.normalize(img, mean=[0.485, 0.456, 0.406], std=[0.229, 0.224, 0.225])\n",
    "input_video = [normalize_rgb(frame).unsqueeze(0) for frame in input_video]"
   ]
  },
  {
   "cell_type": "code",
   "execution_count": 20,
   "metadata": {},
   "outputs": [],
   "source": [
    "srcnet = resnet152(weights=ResNet152_Weights.IMAGENET1K_V1).eval()\n",
    "tgtnet_trainer = OverfitTrainer()\n",
    "tgtnet_trainer.set(\n",
    "    pretrained_classifier=srcnet,\n",
    "    num_classes=1000,\n",
    "    confidence=0.1,\n",
    "    weight_decay=30,\n",
    "    lr_scale=0.01,\n",
    "    momentum=0.9,\n",
    ")\n",
    "tgtnet_trainer.new_experiment()\n",
    "tgtnet_trainer.test(input_video, [258] * len(input_video))"
   ]
  },
  {
   "cell_type": "code",
   "execution_count": null,
   "metadata": {},
   "outputs": [],
   "source": []
  }
 ],
 "metadata": {
  "kernelspec": {
   "display_name": "Python 3.9.13 ('.venv': poetry)",
   "language": "python",
   "name": "python3"
  },
  "language_info": {
   "codemirror_mode": {
    "name": "ipython",
    "version": 3
   },
   "file_extension": ".py",
   "mimetype": "text/x-python",
   "name": "python",
   "nbconvert_exporter": "python",
   "pygments_lexer": "ipython3",
   "version": "3.9.13"
  },
  "orig_nbformat": 4,
  "vscode": {
   "interpreter": {
    "hash": "48a83ca3aee1feddb0dfc5a060f9f80ff0dd60294765f4f1c97838d8341a23c1"
   }
  }
 },
 "nbformat": 4,
 "nbformat_minor": 2
}

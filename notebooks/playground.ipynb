{
 "cells": [
  {
   "cell_type": "code",
   "execution_count": 1,
   "metadata": {},
   "outputs": [],
   "source": [
    "import torch\n",
    "from torchvision.io import read_video, write_video"
   ]
  },
  {
   "cell_type": "code",
   "execution_count": 2,
   "metadata": {},
   "outputs": [
    {
     "ename": "RuntimeError",
     "evalue": "File not found: ../data/samoyed_3_69.mp4",
     "output_type": "error",
     "traceback": [
      "\u001b[0;31m---------------------------------------------------------------------------\u001b[0m",
      "\u001b[0;31mRuntimeError\u001b[0m                              Traceback (most recent call last)",
      "Cell \u001b[0;32mIn [2], line 1\u001b[0m\n\u001b[0;32m----> 1\u001b[0m vid \u001b[39m=\u001b[39m read_video(\u001b[39m\"\u001b[39;49m\u001b[39m../data/samoyed_3_69.mp4\u001b[39;49m\u001b[39m\"\u001b[39;49m)\n",
      "File \u001b[0;32m~/development/research/overfitting-net/.venv/lib/python3.9/site-packages/torchvision/io/video.py:273\u001b[0m, in \u001b[0;36mread_video\u001b[0;34m(filename, start_pts, end_pts, pts_unit, output_format)\u001b[0m\n\u001b[1;32m    270\u001b[0m \u001b[39mfrom\u001b[39;00m \u001b[39mtorchvision\u001b[39;00m \u001b[39mimport\u001b[39;00m get_video_backend\n\u001b[1;32m    272\u001b[0m \u001b[39mif\u001b[39;00m \u001b[39mnot\u001b[39;00m os\u001b[39m.\u001b[39mpath\u001b[39m.\u001b[39mexists(filename):\n\u001b[0;32m--> 273\u001b[0m     \u001b[39mraise\u001b[39;00m \u001b[39mRuntimeError\u001b[39;00m(\u001b[39mf\u001b[39m\u001b[39m\"\u001b[39m\u001b[39mFile not found: \u001b[39m\u001b[39m{\u001b[39;00mfilename\u001b[39m}\u001b[39;00m\u001b[39m\"\u001b[39m)\n\u001b[1;32m    275\u001b[0m \u001b[39mif\u001b[39;00m get_video_backend() \u001b[39m!=\u001b[39m \u001b[39m\"\u001b[39m\u001b[39mpyav\u001b[39m\u001b[39m\"\u001b[39m:\n\u001b[1;32m    276\u001b[0m     \u001b[39mreturn\u001b[39;00m _video_opt\u001b[39m.\u001b[39m_read_video(filename, start_pts, end_pts, pts_unit)\n",
      "\u001b[0;31mRuntimeError\u001b[0m: File not found: ../data/samoyed_3_69.mp4"
     ]
    }
   ],
   "source": [
    "vid = read_video(\"../data/samoyed_3_69.mp4\")"
   ]
  },
  {
   "cell_type": "code",
   "execution_count": 5,
   "metadata": {},
   "outputs": [
    {
     "data": {
      "text/plain": [
       "3"
      ]
     },
     "execution_count": 5,
     "metadata": {},
     "output_type": "execute_result"
    }
   ],
   "source": [
    "len(vid)"
   ]
  },
  {
   "cell_type": "code",
   "execution_count": 11,
   "metadata": {},
   "outputs": [
    {
     "data": {
      "text/plain": [
       "torch.Size([69, 480, 640, 3])"
      ]
     },
     "execution_count": 11,
     "metadata": {},
     "output_type": "execute_result"
    }
   ],
   "source": [
    "vid[0].shape"
   ]
  },
  {
   "cell_type": "code",
   "execution_count": 12,
   "metadata": {},
   "outputs": [
    {
     "data": {
      "text/plain": [
       "torch.uint8"
      ]
     },
     "execution_count": 12,
     "metadata": {},
     "output_type": "execute_result"
    }
   ],
   "source": [
    "vid[0].dtype"
   ]
  },
  {
   "cell_type": "code",
   "execution_count": 24,
   "metadata": {},
   "outputs": [
    {
     "data": {
      "text/plain": [
       "tensor([[[253, 253, 253],\n",
       "         [253, 253, 253],\n",
       "         [253, 253, 253],\n",
       "         ...,\n",
       "         [253, 253, 253],\n",
       "         [253, 253, 253],\n",
       "         [253, 253, 253]],\n",
       "\n",
       "        [[253, 253, 253],\n",
       "         [253, 253, 253],\n",
       "         [253, 253, 253],\n",
       "         ...,\n",
       "         [253, 253, 253],\n",
       "         [253, 253, 253],\n",
       "         [253, 253, 253]],\n",
       "\n",
       "        [[253, 253, 253],\n",
       "         [253, 253, 253],\n",
       "         [253, 253, 253],\n",
       "         ...,\n",
       "         [253, 253, 253],\n",
       "         [253, 253, 253],\n",
       "         [253, 253, 253]],\n",
       "\n",
       "        ...,\n",
       "\n",
       "        [[253, 253, 253],\n",
       "         [253, 253, 253],\n",
       "         [253, 253, 253],\n",
       "         ...,\n",
       "         [253, 253, 253],\n",
       "         [253, 253, 253],\n",
       "         [253, 253, 253]],\n",
       "\n",
       "        [[253, 253, 253],\n",
       "         [253, 253, 253],\n",
       "         [253, 253, 253],\n",
       "         ...,\n",
       "         [253, 253, 253],\n",
       "         [253, 253, 253],\n",
       "         [253, 253, 253]],\n",
       "\n",
       "        [[253, 253, 253],\n",
       "         [253, 253, 253],\n",
       "         [253, 253, 253],\n",
       "         ...,\n",
       "         [253, 253, 253],\n",
       "         [253, 253, 253],\n",
       "         [253, 253, 253]]], dtype=torch.uint8)"
      ]
     },
     "execution_count": 24,
     "metadata": {},
     "output_type": "execute_result"
    }
   ],
   "source": [
    "vid[0][0]"
   ]
  },
  {
   "cell_type": "code",
   "execution_count": 12,
   "metadata": {},
   "outputs": [],
   "source": [
    "from PIL import Image"
   ]
  },
  {
   "cell_type": "code",
   "execution_count": 13,
   "metadata": {},
   "outputs": [],
   "source": [
    "img = Image.open(\"../data/images/dog.jpg\")"
   ]
  },
  {
   "cell_type": "code",
   "execution_count": 14,
   "metadata": {},
   "outputs": [],
   "source": [
    "import torchvision.transforms.functional as FT"
   ]
  },
  {
   "cell_type": "code",
   "execution_count": 15,
   "metadata": {},
   "outputs": [],
   "source": [
    "img_tensor = FT.to_tensor(img)"
   ]
  },
  {
   "cell_type": "code",
   "execution_count": 16,
   "metadata": {},
   "outputs": [
    {
     "data": {
      "text/plain": [
       "torch.Size([3, 1213, 1546])"
      ]
     },
     "execution_count": 16,
     "metadata": {},
     "output_type": "execute_result"
    }
   ],
   "source": [
    "img_tensor.shape # C, H, W"
   ]
  },
  {
   "cell_type": "code",
   "execution_count": 17,
   "metadata": {},
   "outputs": [
    {
     "data": {
      "text/plain": [
       "torch.float32"
      ]
     },
     "execution_count": 17,
     "metadata": {},
     "output_type": "execute_result"
    }
   ],
   "source": [
    "img_tensor.dtype"
   ]
  },
  {
   "cell_type": "code",
   "execution_count": 18,
   "metadata": {},
   "outputs": [
    {
     "data": {
      "text/plain": [
       "tensor([[0.0510, 0.0667, 0.0588,  ..., 0.0745, 0.0784, 0.0706],\n",
       "        [0.0627, 0.0706, 0.0588,  ..., 0.0745, 0.0902, 0.0824],\n",
       "        [0.0667, 0.0706, 0.0667,  ..., 0.0667, 0.0902, 0.0863],\n",
       "        ...,\n",
       "        [0.4039, 0.2824, 0.2235,  ..., 0.2510, 0.3412, 0.4863],\n",
       "        [0.4353, 0.3373, 0.2863,  ..., 0.2588, 0.2980, 0.3725],\n",
       "        [0.3686, 0.2784, 0.2627,  ..., 0.2118, 0.2235, 0.2980]])"
      ]
     },
     "execution_count": 18,
     "metadata": {},
     "output_type": "execute_result"
    }
   ],
   "source": [
    "img_tensor[0]"
   ]
  },
  {
   "cell_type": "code",
   "execution_count": 23,
   "metadata": {},
   "outputs": [
    {
     "data": {
      "text/plain": [
       "tensor([[[ 13,  30,  12],\n",
       "         [ 17,  34,  18],\n",
       "         [ 15,  29,  14],\n",
       "         ...,\n",
       "         [ 19,  31,  17],\n",
       "         [ 20,  33,  23],\n",
       "         [ 18,  31,  21]],\n",
       "\n",
       "        [[ 16,  27,  19],\n",
       "         [ 18,  29,  23],\n",
       "         [ 15,  26,  20],\n",
       "         ...,\n",
       "         [ 19,  31,  11],\n",
       "         [ 23,  35,  15],\n",
       "         [ 21,  33,  13]],\n",
       "\n",
       "        [[ 17,  23,  19],\n",
       "         [ 18,  24,  20],\n",
       "         [ 17,  23,  19],\n",
       "         ...,\n",
       "         [ 17,  29,   9],\n",
       "         [ 23,  35,  15],\n",
       "         [ 22,  34,  14]],\n",
       "\n",
       "        ...,\n",
       "\n",
       "        [[103, 124,  91],\n",
       "         [ 72,  98,  63],\n",
       "         [ 57,  88,  56],\n",
       "         ...,\n",
       "         [ 64,  94,  66],\n",
       "         [ 87, 107,  72],\n",
       "         [124, 135, 103]],\n",
       "\n",
       "        [[111, 123,  99],\n",
       "         [ 86, 100,  77],\n",
       "         [ 73,  93,  68],\n",
       "         ...,\n",
       "         [ 66,  96,  68],\n",
       "         [ 76,  91,  58],\n",
       "         [ 95, 102,  71]],\n",
       "\n",
       "        [[ 94, 106,  82],\n",
       "         [ 71,  85,  62],\n",
       "         [ 67,  87,  62],\n",
       "         ...,\n",
       "         [ 54,  84,  56],\n",
       "         [ 57,  72,  39],\n",
       "         [ 76,  83,  52]]], dtype=torch.uint8)"
      ]
     },
     "execution_count": 23,
     "metadata": {},
     "output_type": "execute_result"
    }
   ],
   "source": [
    "(255 * img_tensor.permute((1, 2, 0))).type(torch.uint8)\n"
   ]
  },
  {
   "cell_type": "code",
   "execution_count": 3,
   "metadata": {},
   "outputs": [
    {
     "name": "stderr",
     "output_type": "stream",
     "text": [
      "/Users/dgcnz/development/research/overfitting-net/.venv/lib/python3.9/site-packages/torchvision/io/video.py:162: UserWarning: The pts_unit 'pts' gives wrong results. Please use pts_unit 'sec'.\n",
      "  warnings.warn(\"The pts_unit 'pts' gives wrong results. Please use pts_unit 'sec'.\")\n"
     ]
    }
   ],
   "source": [
    "vid = read_video(\"../data/videos/dog/3-69.mp4\", output_format=\"TCHW\")"
   ]
  },
  {
   "cell_type": "code",
   "execution_count": null,
   "metadata": {},
   "outputs": [],
   "source": []
  },
  {
   "cell_type": "code",
   "execution_count": 5,
   "metadata": {},
   "outputs": [
    {
     "name": "stdout",
     "output_type": "stream",
     "text": [
      "tensor([[[ 20,  19,  18,  ...,  25,  20,  19],\n",
      "         [ 18,  17,  17,  ...,  28,  19,  19],\n",
      "         [ 12,  12,  13,  ...,  27,  22,  22],\n",
      "         ...,\n",
      "         [  9,  11,  13,  ..., 225, 225, 226],\n",
      "         [  8,  10,  12,  ..., 226, 226, 228],\n",
      "         [  8,  10,  12,  ..., 226, 228, 229]],\n",
      "\n",
      "        [[ 28,  27,  26,  ...,  33,  34,  33],\n",
      "         [ 26,  25,  25,  ...,  37,  33,  33],\n",
      "         [ 20,  20,  22,  ...,  37,  32,  32],\n",
      "         ...,\n",
      "         [  5,   8,  12,  ..., 218, 219, 221],\n",
      "         [  4,   6,  11,  ..., 219, 223, 224],\n",
      "         [  4,   6,  11,  ..., 219, 224, 225]],\n",
      "\n",
      "        [[ 24,  23,  22,  ...,  17,  13,  12],\n",
      "         [ 22,  20,  20,  ...,  20,  12,  12],\n",
      "         [ 16,  16,  17,  ...,  20,  12,  12],\n",
      "         ...,\n",
      "         [  2,   4,   9,  ..., 221, 219, 221],\n",
      "         [  1,   3,   8,  ..., 222, 222, 223],\n",
      "         [  1,   3,   8,  ..., 222, 223, 224]]], dtype=torch.uint8)\n"
     ]
    },
    {
     "ename": "AttributeError",
     "evalue": "'int' object has no attribute 'shape'",
     "output_type": "error",
     "traceback": [
      "\u001b[0;31m---------------------------------------------------------------------------\u001b[0m",
      "\u001b[0;31mAttributeError\u001b[0m                            Traceback (most recent call last)",
      "Cell \u001b[0;32mIn [5], line 3\u001b[0m\n\u001b[1;32m      1\u001b[0m \u001b[39mfor\u001b[39;00m a, x \u001b[39min\u001b[39;00m \u001b[39mzip\u001b[39m(vid[\u001b[39m0\u001b[39m], \u001b[39mrange\u001b[39m(\u001b[39mlen\u001b[39m(vid[\u001b[39m0\u001b[39m]))):\n\u001b[1;32m      2\u001b[0m     \u001b[39mprint\u001b[39m(a)\n\u001b[0;32m----> 3\u001b[0m     \u001b[39mprint\u001b[39m(x\u001b[39m.\u001b[39;49mshape)\n",
      "\u001b[0;31mAttributeError\u001b[0m: 'int' object has no attribute 'shape'"
     ]
    }
   ],
   "source": [
    "for x, a in zip(vid[0], range(len(vid[0]))):\n",
    "    print(a)\n",
    "    print(x.shape)"
   ]
  },
  {
   "cell_type": "code",
   "execution_count": 9,
   "metadata": {},
   "outputs": [
    {
     "data": {
      "text/plain": [
       "torch.Size([69, 3, 404, 514])"
      ]
     },
     "execution_count": 9,
     "metadata": {},
     "output_type": "execute_result"
    }
   ],
   "source": [
    "vid[0].shape"
   ]
  },
  {
   "cell_type": "code",
   "execution_count": 11,
   "metadata": {},
   "outputs": [
    {
     "data": {
      "text/plain": [
       "tensor([[[0.0784, 0.0745, 0.0706,  ..., 0.0980, 0.0784, 0.0745],\n",
       "         [0.0706, 0.0667, 0.0667,  ..., 0.1098, 0.0745, 0.0745],\n",
       "         [0.0471, 0.0471, 0.0510,  ..., 0.1059, 0.0863, 0.0863],\n",
       "         ...,\n",
       "         [0.0353, 0.0431, 0.0510,  ..., 0.8824, 0.8824, 0.8863],\n",
       "         [0.0314, 0.0392, 0.0471,  ..., 0.8863, 0.8863, 0.8941],\n",
       "         [0.0314, 0.0392, 0.0471,  ..., 0.8863, 0.8941, 0.8980]],\n",
       "\n",
       "        [[0.1098, 0.1059, 0.1020,  ..., 0.1294, 0.1333, 0.1294],\n",
       "         [0.1020, 0.0980, 0.0980,  ..., 0.1451, 0.1294, 0.1294],\n",
       "         [0.0784, 0.0784, 0.0863,  ..., 0.1451, 0.1255, 0.1255],\n",
       "         ...,\n",
       "         [0.0196, 0.0314, 0.0471,  ..., 0.8549, 0.8588, 0.8667],\n",
       "         [0.0157, 0.0235, 0.0431,  ..., 0.8588, 0.8745, 0.8784],\n",
       "         [0.0157, 0.0235, 0.0431,  ..., 0.8588, 0.8784, 0.8824]],\n",
       "\n",
       "        [[0.0941, 0.0902, 0.0863,  ..., 0.0667, 0.0510, 0.0471],\n",
       "         [0.0863, 0.0784, 0.0784,  ..., 0.0784, 0.0471, 0.0471],\n",
       "         [0.0627, 0.0627, 0.0667,  ..., 0.0784, 0.0471, 0.0471],\n",
       "         ...,\n",
       "         [0.0078, 0.0157, 0.0353,  ..., 0.8667, 0.8588, 0.8667],\n",
       "         [0.0039, 0.0118, 0.0314,  ..., 0.8706, 0.8706, 0.8745],\n",
       "         [0.0039, 0.0118, 0.0314,  ..., 0.8706, 0.8745, 0.8784]]])"
      ]
     },
     "execution_count": 11,
     "metadata": {},
     "output_type": "execute_result"
    }
   ],
   "source": [
    "vid[0][0]/255.0"
   ]
  },
  {
   "cell_type": "code",
   "execution_count": null,
   "metadata": {},
   "outputs": [],
   "source": []
  }
 ],
 "metadata": {
  "kernelspec": {
   "display_name": "Python 3.9.13 ('.venv': poetry)",
   "language": "python",
   "name": "python3"
  },
  "language_info": {
   "codemirror_mode": {
    "name": "ipython",
    "version": 3
   },
   "file_extension": ".py",
   "mimetype": "text/x-python",
   "name": "python",
   "nbconvert_exporter": "python",
   "pygments_lexer": "ipython3",
   "version": "3.9.13"
  },
  "orig_nbformat": 4,
  "vscode": {
   "interpreter": {
    "hash": "48a83ca3aee1feddb0dfc5a060f9f80ff0dd60294765f4f1c97838d8341a23c1"
   }
  }
 },
 "nbformat": 4,
 "nbformat_minor": 2
}

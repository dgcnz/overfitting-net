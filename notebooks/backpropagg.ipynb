{
 "cells": [
  {
   "cell_type": "code",
   "execution_count": 1,
   "metadata": {},
   "outputs": [],
   "source": [
    "import torch\n",
    "import torchvision\n",
    "import pytorch_lightning as pl\n",
    "from torchvision.datasets import MNIST\n",
    "from torch.utils.data import DataLoader\n",
    "import matplotlib.pyplot as plt\n",
    "from overfit.models.overfit import Overfit\n",
    "from overfit.trainers.overfit import OverfitTrainer\n",
    "import torch.nn.functional as F\n",
    "from matplotlib.lines import Line2D\n",
    "import mlflow\n",
    "import os\n",
    "from overfit.utils.misc import sharpen\n",
    "import matplotlib"
   ]
  },
  {
   "cell_type": "code",
   "execution_count": 2,
   "metadata": {},
   "outputs": [],
   "source": [
    "class ResNetMNIST(pl.LightningModule):\n",
    "    def __init__(self):\n",
    "        super().__init__()\n",
    "        # define model and loss\n",
    "        self.model = torchvision.models.resnet18(num_classes=10)\n",
    "        self.model.conv1 = torch.nn.Conv2d(\n",
    "            1, 64, kernel_size=(7, 7), stride=(2, 2), padding=(3, 3), bias=False\n",
    "        )\n",
    "        self.loss = torch.nn.CrossEntropyLoss()\n",
    "\n",
    "    def forward(self, x):\n",
    "        return self.model(x)\n",
    "\n",
    "    def training_step(self, batch, batch_no):\n",
    "        # implement single training step\n",
    "        x, y = batch\n",
    "        logits = self(x)\n",
    "        loss = self.loss(logits, y)\n",
    "        return loss\n",
    "\n",
    "    def configure_optimizers(self):\n",
    "        # choose your optimizer\n",
    "        return torch.optim.RMSprop(self.parameters(), lr=0.005)\n"
   ]
  },
  {
   "cell_type": "code",
   "execution_count": 3,
   "metadata": {},
   "outputs": [],
   "source": [
    "class AddGaussianNoise(object):\n",
    "    def __init__(self, mean=0., std=1.):\n",
    "        self.std = std\n",
    "        self.mean = mean\n",
    "        \n",
    "    def __call__(self, tensor):\n",
    "        return tensor + torch.randn(tensor.size()) * self.std + self.mean\n",
    "    \n",
    "    def __repr__(self):\n",
    "        return self.__class__.__name__ + '(mean={0}, std={1})'.format(self.mean, self.std)"
   ]
  },
  {
   "cell_type": "code",
   "execution_count": 4,
   "metadata": {},
   "outputs": [],
   "source": [
    "transform = torchvision.transforms.Compose(\n",
    "    [\n",
    "        # you can add other transformations in this list\n",
    "        torchvision.transforms.ToTensor(),\n",
    "        torchvision.transforms.Normalize((0.1307,), (0.3081,)),\n",
    "    ]\n",
    ")\n",
    "noise_transform=torchvision.transforms.Compose([\n",
    "    torchvision.transforms.ToTensor(),\n",
    "    torchvision.transforms.Normalize((0.1307,), (0.3081,)),\n",
    "    AddGaussianNoise(0., 10.),\n",
    "    torchvision.transforms.Normalize((0), (1)),\n",
    "])"
   ]
  },
  {
   "cell_type": "code",
   "execution_count": 5,
   "metadata": {},
   "outputs": [],
   "source": [
    "train_ds = MNIST(\"mnist\", train=True, download=True, transform=noise_transform)\n",
    "test_ds = MNIST(\"mnist\", train=False, download=True, transform=noise_transform)\n",
    "train_dl = DataLoader(train_ds, batch_size=64, shuffle=True)\n",
    "test_dl = DataLoader(test_ds, batch_size=64)\n"
   ]
  },
  {
   "cell_type": "code",
   "execution_count": 7,
   "metadata": {},
   "outputs": [
    {
     "name": "stderr",
     "output_type": "stream",
     "text": [
      "/Users/dgcnz/development/research/overfitting-net/.venv/lib/python3.9/site-packages/pytorch_lightning/trainer/connectors/accelerator_connector.py:446: LightningDeprecationWarning: Setting `Trainer(gpus=1)` is deprecated in v1.7 and will be removed in v2.0. Please use `Trainer(accelerator='gpu', devices=1)` instead.\n",
      "  rank_zero_deprecation(\n",
      "GPU available: True (mps), used: True\n",
      "TPU available: False, using: 0 TPU cores\n",
      "IPU available: False, using: 0 IPUs\n",
      "HPU available: False, using: 0 HPUs\n"
     ]
    }
   ],
   "source": [
    "src = ResNetMNIST()\n",
    "trainer = pl.Trainer(\n",
    "    gpus=1,\n",
    "    accelerator=\"mps\",\n",
    "    max_epochs=1,  # set number of epochs\n",
    ")\n",
    "# trainer.fit(src, train_dl)\n"
   ]
  },
  {
   "cell_type": "code",
   "execution_count": 8,
   "metadata": {},
   "outputs": [
    {
     "ename": "AttributeError",
     "evalue": "Saving a checkpoint is only possible if a model is attached to the Trainer. Did you call `Trainer.save_checkpoint()` before calling `Trainer.{fit,validate,test,predict}`?",
     "output_type": "error",
     "traceback": [
      "\u001b[0;31m---------------------------------------------------------------------------\u001b[0m",
      "\u001b[0;31mAttributeError\u001b[0m                            Traceback (most recent call last)",
      "Cell \u001b[0;32mIn [8], line 2\u001b[0m\n\u001b[1;32m      1\u001b[0m \u001b[39m# trainer.save_checkpoint(\"resnet18_mnist.pt\")\u001b[39;00m\n\u001b[0;32m----> 2\u001b[0m trainer\u001b[39m.\u001b[39;49msave_checkpoint(\u001b[39m\"\u001b[39;49m\u001b[39mnoise_resnet18_mnist.pt\u001b[39;49m\u001b[39m\"\u001b[39;49m)\n",
      "File \u001b[0;32m~/development/research/overfitting-net/.venv/lib/python3.9/site-packages/pytorch_lightning/trainer/trainer.py:1897\u001b[0m, in \u001b[0;36mTrainer.save_checkpoint\u001b[0;34m(self, filepath, weights_only, storage_options)\u001b[0m\n\u001b[1;32m   1887\u001b[0m \u001b[39mr\u001b[39m\u001b[39m\"\"\"\u001b[39;00m\n\u001b[1;32m   1888\u001b[0m \u001b[39mRuns routine to create a checkpoint.\u001b[39;00m\n\u001b[1;32m   1889\u001b[0m \n\u001b[0;32m   (...)\u001b[0m\n\u001b[1;32m   1894\u001b[0m \n\u001b[1;32m   1895\u001b[0m \u001b[39m\"\"\"\u001b[39;00m\n\u001b[1;32m   1896\u001b[0m \u001b[39mif\u001b[39;00m \u001b[39mself\u001b[39m\u001b[39m.\u001b[39mmodel \u001b[39mis\u001b[39;00m \u001b[39mNone\u001b[39;00m:\n\u001b[0;32m-> 1897\u001b[0m     \u001b[39mraise\u001b[39;00m \u001b[39mAttributeError\u001b[39;00m(\n\u001b[1;32m   1898\u001b[0m         \u001b[39m\"\u001b[39m\u001b[39mSaving a checkpoint is only possible if a model is attached to the Trainer. Did you call\u001b[39m\u001b[39m\"\u001b[39m\n\u001b[1;32m   1899\u001b[0m         \u001b[39m\"\u001b[39m\u001b[39m `Trainer.save_checkpoint()` before calling `Trainer.\u001b[39m\u001b[39m{\u001b[39m\u001b[39mfit,validate,test,predict}`?\u001b[39m\u001b[39m\"\u001b[39m\n\u001b[1;32m   1900\u001b[0m     )\n\u001b[1;32m   1901\u001b[0m \u001b[39mself\u001b[39m\u001b[39m.\u001b[39m_checkpoint_connector\u001b[39m.\u001b[39msave_checkpoint(filepath, weights_only\u001b[39m=\u001b[39mweights_only, storage_options\u001b[39m=\u001b[39mstorage_options)\n",
      "\u001b[0;31mAttributeError\u001b[0m: Saving a checkpoint is only possible if a model is attached to the Trainer. Did you call `Trainer.save_checkpoint()` before calling `Trainer.{fit,validate,test,predict}`?"
     ]
    }
   ],
   "source": [
    "# trainer.save_checkpoint(\"resnet18_mnist.pt\")\n",
    "trainer.save_checkpoint(\"noise_resnet18_mnist.pt\")\n"
   ]
  },
  {
   "cell_type": "code",
   "execution_count": 9,
   "metadata": {},
   "outputs": [],
   "source": [
    "src = ResNetMNIST.load_from_checkpoint(\"noise_resnet18_mnist.pt\")\n"
   ]
  },
  {
   "cell_type": "code",
   "execution_count": 10,
   "metadata": {},
   "outputs": [
    {
     "data": {
      "text/plain": [
       "<matplotlib.image.AxesImage at 0x16a345610>"
      ]
     },
     "execution_count": 10,
     "metadata": {},
     "output_type": "execute_result"
    },
    {
     "data": {
      "image/png": "[encoded data removed]",
      "text/plain": [
       "<Figure size 640x480 with 1 Axes>"
      ]
     },
     "metadata": {},
     "output_type": "display_data"
    }
   ],
   "source": [
    "inputs, classes = next(iter(test_dl))\n",
    "plt.imshow(inputs[0].permute(1, 2, 0), cmap=\"Greys\")"
   ]
  },
  {
   "cell_type": "code",
   "execution_count": 11,
   "metadata": {},
   "outputs": [],
   "source": [
    "## Initialize #{{{\n",
    "matplotlib.rc(\"text\", usetex=True)\n",
    "matplotlib.rc(\"font\", **{\"family\": \"serif\", \"serif\": [\"Computer Modern Roman, Times\"]})\n",
    "colors = (\n",
    "    \"#BB3300\",\n",
    "    \"#8800DD\",\n",
    "    \"#2200FF\",\n",
    "    \"#0099DD\",\n",
    "    \"#00AA00\",\n",
    "    \"#AA8800\",\n",
    "    \"#661100\",\n",
    "    \"#440077\",\n",
    "    \"#000088\",\n",
    "    \"#003366\",\n",
    "    \"#004400\",\n",
    "    \"#554400\",\n",
    ")\n",
    "# }}}\n"
   ]
  },
  {
   "cell_type": "code",
   "execution_count": 13,
   "metadata": {},
   "outputs": [
    {
     "name": "stdout",
     "output_type": "stream",
     "text": [
      "[1, 1, 4]\n"
     ]
    },
    {
     "data": {
      "image/png": "[encoded data removed]",
      "text/plain": [
       "<Figure size 640x480 with 9 Axes>"
      ]
     },
     "metadata": {},
     "output_type": "display_data"
    }
   ],
   "source": [
    "MLFLOW_HOST = \"64.227.2.50\"\n",
    "mlflow.set_tracking_uri(f\"http://{MLFLOW_HOST}:5050\")\n",
    "categories = ['0','1','2','3','4','5','6','7','8','9']\n",
    "with mlflow.start_run(experiment_id=\"15\") as run:\n",
    "    tgt_trainer = OverfitTrainer(categories=categories)\n",
    "    confidence=0.5\n",
    "    tgt_trainer.set(\n",
    "        pretrained_classifier=src,\n",
    "        num_classes=10,\n",
    "        confidence=confidence,\n",
    "        weight_decay=0,\n",
    "        max_lr=1,\n",
    "        momentum=0,\n",
    "    )\n",
    "    N = [2, 5, 6]\n",
    "    n = len(N)\n",
    "    fig, axes = plt.subplots(n, 3, )\n",
    "    X = [inputs[i].unsqueeze(0) for i in N]\n",
    "    Y = [int(classes[i]) for i in N]\n",
    "    print(Y)\n",
    "    for i in range(n):\n",
    "        src_pred = (\n",
    "            F.softmax(tgt_trainer.model.pretrained_classifier.forward(X[i]), dim=1)\n",
    "            .detach()\n",
    "            .numpy()\n",
    "        )\n",
    "        tgt_pred = F.softmax(tgt_trainer.forward_backward(X[i]), dim=1)\n",
    "        axes[i][0].set_ylim(0, 1)\n",
    "        axes[i][1].set_ylim(0, 1)\n",
    "        axes[i][2].set_ylim(0, 1)\n",
    "        axes[i][0].set_title(f\"$M_S(X_{i})$\")\n",
    "\n",
    "        axes[i][1].set_title(f\"$M_T^{{t={i}}}(X_{i})$\")\n",
    "        axes[i][2].set_title(f\"$P^{{t = {i + 1}}}$\")\n",
    "        # prime = F.softmax(tgt_trainer.model.prime, dim=0)\n",
    "        prime = tgt_trainer.model.prime\n",
    "        # axes[i][0].bar(categories, src_pred[0], facecolor='#e6394680', edgecolor='#e63946')\n",
    "        axes[i][0].bar(categories, src_pred[0], facecolor='#e63946a0', edgecolor='#e63946')\n",
    "        axes[i][1].bar(categories, tgt_pred.detach().numpy()[0], facecolor='#e63946a0', edgecolor='#e63946')\n",
    "        axes[i][2].bar(categories, prime.detach().numpy(), facecolor='#e63946a0', edgecolor='#e63946')\n",
    "        # axes[i][1].bar(categories, sharpen(tgt_pred, T=1-confidence, dim=1).detach().numpy()[0], edgecolor='black', facecolor='None', linestyle='dashed')\n",
    "        axes[i][1].bar(categories, F.softmax(tgt_pred, dim=1).detach().numpy()[0], edgecolor='black', facecolor='None', linestyle='dashed')\n",
    "    tgt_trainer.send_logs(run)\n",
    "    fig.tight_layout(h_pad=0.5)\n",
    "\n",
    "    handles = [\n",
    "        Line2D([0], [0], color='black', linestyle='dashed', label=\"$Sharpen(M_T)$\"),\n",
    "    ]\n",
    "    lgd = fig.legend(handles=handles, loc='center left', bbox_to_anchor=(1, 0.5))\n",
    "    plt.savefig(\"backpropagg.png\", dpi=300, bbox_extra_artists=(lgd,), bbox_inches='tight')\n",
    "    plt.show()\n"
   ]
  },
  {
   "cell_type": "code",
   "execution_count": null,
   "metadata": {},
   "outputs": [],
   "source": []
  },
  {
   "cell_type": "code",
   "execution_count": null,
   "metadata": {},
   "outputs": [],
   "source": []
  },
  {
   "cell_type": "code",
   "execution_count": null,
   "metadata": {},
   "outputs": [],
   "source": []
  },
  {
   "cell_type": "code",
   "execution_count": null,
   "metadata": {},
   "outputs": [],
   "source": []
  },
  {
   "cell_type": "code",
   "execution_count": null,
   "metadata": {},
   "outputs": [],
   "source": []
  }
 ],
 "metadata": {
  "kernelspec": {
   "display_name": "Python 3.9.13 ('.venv': poetry)",
   "language": "python",
   "name": "python3"
  },
  "language_info": {
   "codemirror_mode": {
    "name": "ipython",
    "version": 3
   },
   "file_extension": ".py",
   "mimetype": "text/x-python",
   "name": "python",
   "nbconvert_exporter": "python",
   "pygments_lexer": "ipython3",
   "version": "3.9.13"
  },
  "orig_nbformat": 4,
  "vscode": {
   "interpreter": {
    "hash": "48a83ca3aee1feddb0dfc5a060f9f80ff0dd60294765f4f1c97838d8341a23c1"
   }
  }
 },
 "nbformat": 4,
 "nbformat_minor": 2
}
